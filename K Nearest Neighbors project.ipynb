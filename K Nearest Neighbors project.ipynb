{
 "cells": [
  {
   "cell_type": "markdown",
   "metadata": {
    "id": "Hw5e4-zoNPJ8"
   },
   "source": [
    "\n",
    "\n",
    "## **<center>K Nearest Neighbors Case Study</center>**"
   ]
  },
  {
   "cell_type": "markdown",
   "metadata": {
    "id": "Q1Wa_t1LW58B"
   },
   "source": [
    "---\n",
    "# **Table of Contents**\n",
    "---\n",
    "\n",
    "**1.** [**Introduction**](#Section1)<br>\n",
    "  - **1.1** [**K-Nearest Neighbours**](#Section11)<br>\n",
    "  - **1.2** [**KNN as a Classifier**](#Section12)<br>\n",
    "\n",
    "**2.** [**Problem Statement**](#Section2)<br>\n",
    "**3.** [**Installing & Importing Libraries**](#Section3)<br>\n",
    "  - **3.1** [**Installing Libraries**](#Section31)<br>\n",
    "  - **3.2** [**Upgrading Libraries**](#Section32)<br>\n",
    "  - **3.3** [**Importing Libraries**](#Section33)<br>\n",
    "\n",
    "**4.** [**Data Acquisition & Description**](#Section4)<br>\n",
    "  - **4.1** [**Data Description**](#Section41)\n",
    "  - **4.2** [**Data Information**](#Section42)\n",
    "  \n",
    "**5.** [**Data Pre-Processing**](#Section5)<br>\n",
    "  - **5.1.** [**Data Pre-Profiling**](#Section51)\n",
    "  - **5.2.** [**Data Cleaning**](#Section52)\n",
    "\n",
    "**6.** [**Exploratory Data Analysis**](#Section6)<br>\n",
    "**7.** [**Data Post-Processing**](#Section7)<br>\n",
    "  - **7.1** [**Feature Scaling**](#Section71)\n",
    "  - **7.2** [**Data Splitting**](#Section72)\n",
    "\n",
    "**8.** [**Model Development and Evaluation**](#Section8)<br>\n",
    "  - **8.1** [**Model Development & Evaluation without Tuning**](#Section81)<br>\n",
    "  - **8.2** [**Hyperparameter Tuning**](#Section82)<br>\n",
    "  - **8.3** [**Model Development & Evaluation after Tuning**](#Section83)<br>\n",
    "  - **8.4** [**Cross-Validating the Models**](#Section84)<br>\n",
    "  - **8.5** [**Model Comparison**](#Section85)<br>\n",
    "\n",
    "**9.** [**Summarization**](#Section9)\n",
    "  - **9.1** [**Conclusion**](#Section91)<br>\n",
    "  - **9.2** [**Actionable Insights**](#Section92)<br>"
   ]
  },
  {
   "cell_type": "markdown",
   "metadata": {
    "id": "eujQVBcDDTUI"
   },
   "source": [
    "---\n",
    "<a name = Section1></a>\n",
    "# **1. Introduction**\n",
    "---"
   ]
  },
  {
   "cell_type": "markdown",
   "metadata": {
    "id": "MwMcTouVNTaC"
   },
   "source": [
    "<a name = Section11></a>\n",
    "### **1.1 K-Nearest Neighbours**\n",
    "\n",
    "- **K-Nearest Neighbours** is one of the most basic yet essential **classification algorithms** in Machine Learning.\n",
    "\n",
    "- It belongs to the **supervised** learning domain and finds intense application in **pattern recognition**, **data mining**, and **intrusion detection**.\n",
    "\n",
    "- It follows a **non-parametric** approach i.e. it does not make any underlying assumptions about the distribution of data.\n",
    " \n",
    "- It is also referred to as **Lazy Learning** because they **delay processing** until a **new instance** is classified.\n",
    "\n",
    "  <center><img src=\"https://raw.githubusercontent.com/insaid2018/PGPDSAI/main/06%20Term%206%20-%20Machine%20Learning%20Advanced/01%20Module%201/img/01%20knn.png\"></center>\n",
    "\n",
    "- It is called **instance-based learning** because it **memorizes or learns** from the dataset.\n",
    "\n",
    "- The **number of parameters** is unbounded and **grows** with the size of the **data** and **classifies** new instances based on **direct comparison**.\n",
    "\n"
   ]
  },
  {
   "cell_type": "markdown",
   "metadata": {
    "id": "hP1MysIVDX0W"
   },
   "source": [
    "<a name = Section12></a>\n",
    "### **1.2 KNN as a Classifier**\n",
    "\n",
    "- For **classification**, the **output** can be **calculated** as the **class** with the **highest frequency** from the **K-most similar instances**.\n",
    "\n",
    "- Each **instance** in essence **votes for their class** and the **class** with the **most votes** is taken as the **prediction**.\n",
    "\n",
    "- Class **probabilities** can be **calculated** as the **normalized frequency** of samples of each class in the set of **K-most similar instances**.\n",
    "\n",
    "<center><img src=\"https://miro.medium.com/max/6000/1*_r-PcPEK7css8UDINDgkgg.gif\" width=\"75%\" height=\"75%\"></center>\n",
    "\n",
    "<br> \n",
    "\n",
    "For example, in a **binary classification** problem (class is 0 or 1):\n",
    "\n",
    "\n",
    "\\begin{equation}\n",
    "p(class=0) = \\frac{count(class=0)}{(count(class=0) + count(class=1))}\n",
    "\\end{equation}\n",
    "\n",
    "- If you are using K and you have an **even** number of **classes** (e.g. 2) it is a good idea to **choose a K** value with an **odd number** to avoid a tie.\n",
    "\n",
    "- And the inverse, use an **even number** for **K** when you have an **odd** number of **classes**.\n",
    "\n",
    "- You can refer to this [**excel sheet**](https://github.com/insaid2018/Term-3/raw/master/Data/CaseStudy/KNN%20-%20Case%20Study.xlsx) for a basic working of the KNN algorithm\n"
   ]
  },
  {
   "cell_type": "markdown",
   "metadata": {
    "id": "vwX8sjbTNT1j"
   },
   "source": [
    "---\n",
    "<a name = Section2></a>\n",
    "# **2. Problem Statement**\n",
    "---\n",
    "\n",
    "- The study of the classification of types of glass was motivated by **criminological investigation**.\n",
    "\n",
    "- It is an important task in **forensic** science to **analyze** the type of **glasses** found at the **crime scenes**\n",
    "\n",
    "- This information can be used because **glass fragments** can **stick** to the **shoes** or **garments** of a **burglar** and can be used to **trace** them.\n",
    "\n",
    "- A record of **glass type** and their **chemical composition** is made and stored for future use.\n",
    "\n",
    "- The main ingredient of glass: $SiO_2$, other contents are also oxides, such as $Na_2O$, $CaO$, $K_2O$.\n",
    "\n",
    "<center><img src=\"https://www.thepropertyfinders.com/wp-content/uploads/property-detective.jpg\" width=\"500\" height=\"300\"></center>\n",
    "\n",
    "### **Hypothetical Scenario**\n",
    "\n",
    "- A **house break-in** **victim** informed the police that the intruder had entered by **shattering their window**.\n",
    "\n",
    "- There are **several** types of **glass fragments** **found** at the crime scene and **5 suspects** have been **found** for investigation.\n",
    "\n",
    "- You are tasked with designing a **classifier** that is trained on the previous records of various types of glasses.\n",
    "\n",
    "- This classifier will then be used to **determine** the types of **glasses** found at the given **crime scene**.\n",
    "\n",
    "- It will also be used to check the **glass** types found in the **suspects' garments** and **shoes**.\n",
    "\n",
    "- The dataset has been categorized by **categories** of **glasses** and the **composition** of various **minerals** present in their **oxides**.\n",
    "\n",
    "- The **Refractive Index** of each glass is also mentioned which will help the cops to **identify** the **actual intruders**."
   ]
  },
  {
   "cell_type": "markdown",
   "metadata": {
    "id": "y1ne3CBxNctb"
   },
   "source": [
    "---\n",
    "<a name = Section3></a>\n",
    "# **3. Installing & Importing Libraries**\n",
    "---\n"
   ]
  },
  {
   "cell_type": "markdown",
   "metadata": {
    "id": "DJcpn0bPmX7Z"
   },
   "source": [
    "<a name = Section31></a>\n",
    "### **3.1 Installing Libraries**"
   ]
  },
  {
   "cell_type": "code",
   "execution_count": null,
   "metadata": {
    "colab": {
     "base_uri": "https://localhost:8080/"
    },
    "id": "G64l-tpL_G6c",
    "outputId": "1f6c6e9b-cd82-47fd-f4c4-d321d14a929c"
   },
   "outputs": [
    {
     "name": "stdout",
     "output_type": "stream",
     "text": [
      "\u001b[?25l\r",
      "\u001b[K     |████▊                           | 10kB 21.3MB/s eta 0:00:01\r",
      "\u001b[K     |█████████▍                      | 20kB 28.9MB/s eta 0:00:01\r",
      "\u001b[K     |██████████████                  | 30kB 35.1MB/s eta 0:00:01\r",
      "\u001b[K     |██████████████████▊             | 40kB 26.6MB/s eta 0:00:01\r",
      "\u001b[K     |███████████████████████▍        | 51kB 14.9MB/s eta 0:00:01\r",
      "\u001b[K     |████████████████████████████    | 61kB 12.9MB/s eta 0:00:01\r",
      "\u001b[K     |████████████████████████████████| 71kB 4.2MB/s \n",
      "\u001b[?25h  Building wheel for folium (setup.py) ... \u001b[?25l\u001b[?25hdone\n"
     ]
    }
   ],
   "source": [
    "!pip install -q datascience                                         # Package that is required by pandas profiling\n",
    "!pip install -q pandas-profiling                                    # Library to generate basic statistics about data"
   ]
  },
  {
   "cell_type": "markdown",
   "metadata": {
    "id": "RQ7MRLAo5N1V"
   },
   "source": [
    "<a name = Section32></a>\n",
    "### **3.2 Upgrading Libraries**\n",
    "\n",
    "- **After upgrading** the libraries, you need to **restart the runtime** to make the libraries in sync. \n",
    "\n",
    "- Make sure not to execute the cell above (3.1) and below (3.2) again after restarting the runtime."
   ]
  },
  {
   "cell_type": "code",
   "execution_count": null,
   "metadata": {
    "id": "B-Fik6Ur5Nu7"
   },
   "outputs": [],
   "source": [
    "!pip install -q --upgrade pandas-profiling"
   ]
  },
  {
   "cell_type": "markdown",
   "metadata": {
    "id": "4K_1imiv5Rn1"
   },
   "source": [
    "<a name = Section33></a>\n",
    "### **3.3 Importing Libraries**"
   ]
  },
  {
   "cell_type": "code",
   "execution_count": null,
   "metadata": {
    "id": "IpUbSK3u5RgT"
   },
   "outputs": [],
   "source": [
    "#-------------------------------------------------------------------------------------------------------------------------------\n",
    "import pandas as pd                                                 # Importing for panel data analysis\n",
    "from pandas_profiling import ProfileReport                          # Importing Pandas Profiling (To generate Univariate Analysis)\n",
    "pd.set_option('display.max_columns', None)                          # Unfolding hidden features if the cardinality is high\n",
    "pd.set_option('display.max_colwidth', None)                         # Unfolding the max feature width for better clearity\n",
    "pd.set_option('display.max_rows', None)                             # Unfolding hidden data points if the cardinality is high\n",
    "pd.set_option('mode.chained_assignment', None)                      # Removing restriction over chained assignments operations\n",
    "pd.set_option('display.float_format', lambda x: '%.5f' % x)         # To suppress scientific notation over exponential values\n",
    "#-------------------------------------------------------------------------------------------------------------------------------\n",
    "import numpy as np                                                  # Importing package numpys (For Numerical Python)\n",
    "#-------------------------------------------------------------------------------------------------------------------------------\n",
    "import matplotlib.pyplot as plt                                     # Importing pyplot interface using matplotlib\n",
    "import seaborn as sns                                               # Importing seaborn library for interactive visualization\n",
    "import plotly.graph_objects as go                                   # Importing to make interactive plots                    \n",
    "from plotly.subplots import make_subplots                           # Importing to create subplots in plotly\n",
    "%matplotlib inline\n",
    "#-------------------------------------------------------------------------------------------------------------------------------\n",
    "from sklearn.preprocessing import StandardScaler                    # Importing to scale the features\n",
    "from sklearn.model_selection import train_test_split                # Importing to split the data into train and test data\n",
    "from sklearn.neighbors import KNeighborsClassifier                  # To instantiate a KNN Classifier\n",
    "from sklearn.linear_model import LogisticRegression                 # To instantiate a Logistic Regression Classifier\n",
    "from sklearn.ensemble import RandomForestClassifier                 # To instantiate a Random Forest Classifier\n",
    "from sklearn.naive_bayes import GaussianNB                          # To instantiate a Naive Bayes Classifier\n",
    "from sklearn.metrics import accuracy_score                          # To calculate the accuracy of classifiers\n",
    "from sklearn.model_selection import KFold                           # To create k folds for cross validation\n",
    "from sklearn.model_selection import cross_validate                  # To calculate cross validation scores\n",
    "from sklearn.model_selection import GridSearchCV                    # To tune the models\n",
    "#-------------------------------------------------------------------------------------------------------------------------------\n",
    "import time                                                         # Importing to calculate time\n",
    "import warnings                                                     # Importing warning to disable runtime warnings\n",
    "warnings.filterwarnings(\"ignore\")                                   # Warnings will appear only once"
   ]
  },
  {
   "cell_type": "markdown",
   "metadata": {
    "id": "xcz21F9nmGnv"
   },
   "source": [
    "---\n",
    "<a name = Section4></a>\n",
    "# **4. Data Acquisition and Description**\n",
    "---\n",
    "\n",
    "- Data set  has **9 key** properties where the first one is the **optical** property and the rest 8 are the **chemical oxide contents** of glass.\n",
    "  \n",
    "- So, the property 1 and property 2-9 have different dimensions.\n",
    "\n",
    "| Records | Features | Dataset Size |\n",
    "| :-- | :-- | :-- |\n",
    "| 214 | 10 | 9.81 KB| \n",
    "<br>\n",
    "\n",
    "|id| **Feature Name** | **Description** |\n",
    "|:--|:--|:--|\n",
    "|01| **RI** | Refractive index. |\n",
    "|02| **Na** | Sodium (weight percent in corresponding oxide). |\n",
    "|03| **Mg** | Magnesium (weight percent in corresponding oxide). |\n",
    "|04| **Al** | Aluminum (weight percent in corresponding oxide). |\n",
    "|05| **Si** | Silicon (weight percent in corresponding oxide). |\n",
    "|06| **K** | Potassium (weight percent in corresponding oxide). |\n",
    "|07| **Ca** | Calcium (weight percent in corresponding oxide). |\n",
    "|08| **Ba** | Barium (weight percent in corresponding oxide). |\n",
    "|09| **Fe** | Iron (weight percent in corresponding oxide). |\n",
    "|10| **Type** | Type of glass (class attribute) |"
   ]
  },
  {
   "cell_type": "code",
   "execution_count": null,
   "metadata": {
    "colab": {
     "base_uri": "https://localhost:8080/",
     "height": 221
    },
    "executionInfo": {
     "elapsed": 413,
     "status": "ok",
     "timestamp": 1622524815594,
     "user": {
      "displayName": "Mukesh Kumar",
      "photoUrl": "https://lh3.googleusercontent.com/a-/AOh14GjTZH-ccUwdv--s75Iw1qfyi7gtUyH2m_-htD2e=s64",
      "userId": "01238672520445611335"
     },
     "user_tz": -330
    },
    "id": "0aRTihs11J7m",
    "outputId": "e9367d4d-49fc-4ed8-bbc7-72e97d255e4c"
   },
   "outputs": [
    {
     "name": "stdout",
     "output_type": "stream",
     "text": [
      "The shape of the dataset is: (214, 10)\n"
     ]
    },
    {
     "data": {
      "text/html": [
       "<div>\n",
       "<style scoped>\n",
       "    .dataframe tbody tr th:only-of-type {\n",
       "        vertical-align: middle;\n",
       "    }\n",
       "\n",
       "    .dataframe tbody tr th {\n",
       "        vertical-align: top;\n",
       "    }\n",
       "\n",
       "    .dataframe thead th {\n",
       "        text-align: right;\n",
       "    }\n",
       "</style>\n",
       "<table border=\"1\" class=\"dataframe\">\n",
       "  <thead>\n",
       "    <tr style=\"text-align: right;\">\n",
       "      <th></th>\n",
       "      <th>RI</th>\n",
       "      <th>Na</th>\n",
       "      <th>Mg</th>\n",
       "      <th>Al</th>\n",
       "      <th>Si</th>\n",
       "      <th>K</th>\n",
       "      <th>Ca</th>\n",
       "      <th>Ba</th>\n",
       "      <th>Fe</th>\n",
       "      <th>Type</th>\n",
       "    </tr>\n",
       "  </thead>\n",
       "  <tbody>\n",
       "    <tr>\n",
       "      <th>0</th>\n",
       "      <td>1.52101</td>\n",
       "      <td>13.64000</td>\n",
       "      <td>4.49000</td>\n",
       "      <td>1.10000</td>\n",
       "      <td>71.78000</td>\n",
       "      <td>0.06000</td>\n",
       "      <td>8.75000</td>\n",
       "      <td>0.00000</td>\n",
       "      <td>0.00000</td>\n",
       "      <td>1</td>\n",
       "    </tr>\n",
       "    <tr>\n",
       "      <th>1</th>\n",
       "      <td>1.51761</td>\n",
       "      <td>13.89000</td>\n",
       "      <td>3.60000</td>\n",
       "      <td>1.36000</td>\n",
       "      <td>72.73000</td>\n",
       "      <td>0.48000</td>\n",
       "      <td>7.83000</td>\n",
       "      <td>0.00000</td>\n",
       "      <td>0.00000</td>\n",
       "      <td>1</td>\n",
       "    </tr>\n",
       "    <tr>\n",
       "      <th>2</th>\n",
       "      <td>1.51618</td>\n",
       "      <td>13.53000</td>\n",
       "      <td>3.55000</td>\n",
       "      <td>1.54000</td>\n",
       "      <td>72.99000</td>\n",
       "      <td>0.39000</td>\n",
       "      <td>7.78000</td>\n",
       "      <td>0.00000</td>\n",
       "      <td>0.00000</td>\n",
       "      <td>1</td>\n",
       "    </tr>\n",
       "    <tr>\n",
       "      <th>3</th>\n",
       "      <td>1.51766</td>\n",
       "      <td>13.21000</td>\n",
       "      <td>3.69000</td>\n",
       "      <td>1.29000</td>\n",
       "      <td>72.61000</td>\n",
       "      <td>0.57000</td>\n",
       "      <td>8.22000</td>\n",
       "      <td>0.00000</td>\n",
       "      <td>0.00000</td>\n",
       "      <td>1</td>\n",
       "    </tr>\n",
       "    <tr>\n",
       "      <th>4</th>\n",
       "      <td>1.51742</td>\n",
       "      <td>13.27000</td>\n",
       "      <td>3.62000</td>\n",
       "      <td>1.24000</td>\n",
       "      <td>73.08000</td>\n",
       "      <td>0.55000</td>\n",
       "      <td>8.07000</td>\n",
       "      <td>0.00000</td>\n",
       "      <td>0.00000</td>\n",
       "      <td>1</td>\n",
       "    </tr>\n",
       "  </tbody>\n",
       "</table>\n",
       "</div>"
      ],
      "text/plain": [
       "       RI       Na      Mg      Al       Si       K      Ca      Ba      Fe  \\\n",
       "0 1.52101 13.64000 4.49000 1.10000 71.78000 0.06000 8.75000 0.00000 0.00000   \n",
       "1 1.51761 13.89000 3.60000 1.36000 72.73000 0.48000 7.83000 0.00000 0.00000   \n",
       "2 1.51618 13.53000 3.55000 1.54000 72.99000 0.39000 7.78000 0.00000 0.00000   \n",
       "3 1.51766 13.21000 3.69000 1.29000 72.61000 0.57000 8.22000 0.00000 0.00000   \n",
       "4 1.51742 13.27000 3.62000 1.24000 73.08000 0.55000 8.07000 0.00000 0.00000   \n",
       "\n",
       "   Type  \n",
       "0     1  \n",
       "1     1  \n",
       "2     1  \n",
       "3     1  \n",
       "4     1  "
      ]
     },
     "execution_count": 2,
     "metadata": {
      "tags": []
     },
     "output_type": "execute_result"
    }
   ],
   "source": [
    "glass = pd.read_csv(\"https://raw.githubusercontent.com/insaid2018/Term-3/master/Data/CaseStudy/glass.csv\")\n",
    "print('The shape of the dataset is:', glass.shape)\n",
    "glass.head()"
   ]
  },
  {
   "cell_type": "markdown",
   "metadata": {
    "id": "Lo-jAjW486vD"
   },
   "source": [
    "<a name = Section41></a>\n",
    "### **4.1 Data Description**\n",
    "\n",
    "- In this section, we will see the **description** of various features in the dataset"
   ]
  },
  {
   "cell_type": "code",
   "execution_count": null,
   "metadata": {
    "colab": {
     "base_uri": "https://localhost:8080/",
     "height": 288
    },
    "executionInfo": {
     "elapsed": 17,
     "status": "ok",
     "timestamp": 1622456615906,
     "user": {
      "displayName": "Hiren Rupchandani",
      "photoUrl": "https://lh3.googleusercontent.com/a-/AOh14GhgU4n1VRWoxNACyzwiLFFnL3xL6qH1xJchHFekUbI=s64",
      "userId": "16888644812809569435"
     },
     "user_tz": -330
    },
    "id": "Per82Nc782pt",
    "outputId": "20d89551-9ca1-4865-85e0-412d515b8d26"
   },
   "outputs": [
    {
     "data": {
      "text/html": [
       "<div>\n",
       "<style scoped>\n",
       "    .dataframe tbody tr th:only-of-type {\n",
       "        vertical-align: middle;\n",
       "    }\n",
       "\n",
       "    .dataframe tbody tr th {\n",
       "        vertical-align: top;\n",
       "    }\n",
       "\n",
       "    .dataframe thead th {\n",
       "        text-align: right;\n",
       "    }\n",
       "</style>\n",
       "<table border=\"1\" class=\"dataframe\">\n",
       "  <thead>\n",
       "    <tr style=\"text-align: right;\">\n",
       "      <th></th>\n",
       "      <th>RI</th>\n",
       "      <th>Na</th>\n",
       "      <th>Mg</th>\n",
       "      <th>Al</th>\n",
       "      <th>Si</th>\n",
       "      <th>K</th>\n",
       "      <th>Ca</th>\n",
       "      <th>Ba</th>\n",
       "      <th>Fe</th>\n",
       "      <th>Type</th>\n",
       "    </tr>\n",
       "  </thead>\n",
       "  <tbody>\n",
       "    <tr>\n",
       "      <th>count</th>\n",
       "      <td>214.00000</td>\n",
       "      <td>214.00000</td>\n",
       "      <td>214.00000</td>\n",
       "      <td>214.00000</td>\n",
       "      <td>214.00000</td>\n",
       "      <td>214.00000</td>\n",
       "      <td>214.00000</td>\n",
       "      <td>214.00000</td>\n",
       "      <td>214.00000</td>\n",
       "      <td>214.00000</td>\n",
       "    </tr>\n",
       "    <tr>\n",
       "      <th>mean</th>\n",
       "      <td>1.51837</td>\n",
       "      <td>13.40785</td>\n",
       "      <td>2.68453</td>\n",
       "      <td>1.44491</td>\n",
       "      <td>72.65093</td>\n",
       "      <td>0.49706</td>\n",
       "      <td>8.95696</td>\n",
       "      <td>0.17505</td>\n",
       "      <td>0.05701</td>\n",
       "      <td>2.78037</td>\n",
       "    </tr>\n",
       "    <tr>\n",
       "      <th>std</th>\n",
       "      <td>0.00304</td>\n",
       "      <td>0.81660</td>\n",
       "      <td>1.44241</td>\n",
       "      <td>0.49927</td>\n",
       "      <td>0.77455</td>\n",
       "      <td>0.65219</td>\n",
       "      <td>1.42315</td>\n",
       "      <td>0.49722</td>\n",
       "      <td>0.09744</td>\n",
       "      <td>2.10374</td>\n",
       "    </tr>\n",
       "    <tr>\n",
       "      <th>min</th>\n",
       "      <td>1.51115</td>\n",
       "      <td>10.73000</td>\n",
       "      <td>0.00000</td>\n",
       "      <td>0.29000</td>\n",
       "      <td>69.81000</td>\n",
       "      <td>0.00000</td>\n",
       "      <td>5.43000</td>\n",
       "      <td>0.00000</td>\n",
       "      <td>0.00000</td>\n",
       "      <td>1.00000</td>\n",
       "    </tr>\n",
       "    <tr>\n",
       "      <th>25%</th>\n",
       "      <td>1.51652</td>\n",
       "      <td>12.90750</td>\n",
       "      <td>2.11500</td>\n",
       "      <td>1.19000</td>\n",
       "      <td>72.28000</td>\n",
       "      <td>0.12250</td>\n",
       "      <td>8.24000</td>\n",
       "      <td>0.00000</td>\n",
       "      <td>0.00000</td>\n",
       "      <td>1.00000</td>\n",
       "    </tr>\n",
       "    <tr>\n",
       "      <th>50%</th>\n",
       "      <td>1.51768</td>\n",
       "      <td>13.30000</td>\n",
       "      <td>3.48000</td>\n",
       "      <td>1.36000</td>\n",
       "      <td>72.79000</td>\n",
       "      <td>0.55500</td>\n",
       "      <td>8.60000</td>\n",
       "      <td>0.00000</td>\n",
       "      <td>0.00000</td>\n",
       "      <td>2.00000</td>\n",
       "    </tr>\n",
       "    <tr>\n",
       "      <th>75%</th>\n",
       "      <td>1.51916</td>\n",
       "      <td>13.82500</td>\n",
       "      <td>3.60000</td>\n",
       "      <td>1.63000</td>\n",
       "      <td>73.08750</td>\n",
       "      <td>0.61000</td>\n",
       "      <td>9.17250</td>\n",
       "      <td>0.00000</td>\n",
       "      <td>0.10000</td>\n",
       "      <td>3.00000</td>\n",
       "    </tr>\n",
       "    <tr>\n",
       "      <th>max</th>\n",
       "      <td>1.53393</td>\n",
       "      <td>17.38000</td>\n",
       "      <td>4.49000</td>\n",
       "      <td>3.50000</td>\n",
       "      <td>75.41000</td>\n",
       "      <td>6.21000</td>\n",
       "      <td>16.19000</td>\n",
       "      <td>3.15000</td>\n",
       "      <td>0.51000</td>\n",
       "      <td>7.00000</td>\n",
       "    </tr>\n",
       "  </tbody>\n",
       "</table>\n",
       "</div>"
      ],
      "text/plain": [
       "             RI        Na        Mg        Al        Si         K        Ca  \\\n",
       "count 214.00000 214.00000 214.00000 214.00000 214.00000 214.00000 214.00000   \n",
       "mean    1.51837  13.40785   2.68453   1.44491  72.65093   0.49706   8.95696   \n",
       "std     0.00304   0.81660   1.44241   0.49927   0.77455   0.65219   1.42315   \n",
       "min     1.51115  10.73000   0.00000   0.29000  69.81000   0.00000   5.43000   \n",
       "25%     1.51652  12.90750   2.11500   1.19000  72.28000   0.12250   8.24000   \n",
       "50%     1.51768  13.30000   3.48000   1.36000  72.79000   0.55500   8.60000   \n",
       "75%     1.51916  13.82500   3.60000   1.63000  73.08750   0.61000   9.17250   \n",
       "max     1.53393  17.38000   4.49000   3.50000  75.41000   6.21000  16.19000   \n",
       "\n",
       "             Ba        Fe      Type  \n",
       "count 214.00000 214.00000 214.00000  \n",
       "mean    0.17505   0.05701   2.78037  \n",
       "std     0.49722   0.09744   2.10374  \n",
       "min     0.00000   0.00000   1.00000  \n",
       "25%     0.00000   0.00000   1.00000  \n",
       "50%     0.00000   0.00000   2.00000  \n",
       "75%     0.00000   0.10000   3.00000  \n",
       "max     3.15000   0.51000   7.00000  "
      ]
     },
     "execution_count": 3,
     "metadata": {
      "tags": []
     },
     "output_type": "execute_result"
    }
   ],
   "source": [
    "glass.describe()"
   ]
  },
  {
   "cell_type": "markdown",
   "metadata": {
    "id": "vG1g2Jiv9Avy"
   },
   "source": [
    "**Observations**:\n",
    "\n",
    "- The **Type** feature has distinct values ranging from **1 to 7**.\n",
    "\n",
    "- The **majority** values of Type feature are either **1 or 2**.\n",
    "\n",
    "- **More than 25%** of cells corresponding to the **Type** feature have value of **1**.\n",
    "\n",
    "- **Less than 25%** values of Type feature range from **4 to 7**.\n",
    "\n",
    "- **More than 75%** of cells have **zeros** present in **Ba** feature.\n",
    "\n",
    "- Similarly, **more than 50%** of cells corresponding to **Fe** feature have **zeros**."
   ]
  },
  {
   "cell_type": "markdown",
   "metadata": {
    "id": "V-8ZIE4J9Czb"
   },
   "source": [
    "<a name = Section42></a>\n",
    "### **4.2 Data Information**\n",
    "\n",
    "- In this section we will see the **information** about the types of features."
   ]
  },
  {
   "cell_type": "code",
   "execution_count": null,
   "metadata": {
    "colab": {
     "base_uri": "https://localhost:8080/"
    },
    "executionInfo": {
     "elapsed": 17,
     "status": "ok",
     "timestamp": 1622456615906,
     "user": {
      "displayName": "Hiren Rupchandani",
      "photoUrl": "https://lh3.googleusercontent.com/a-/AOh14GhgU4n1VRWoxNACyzwiLFFnL3xL6qH1xJchHFekUbI=s64",
      "userId": "16888644812809569435"
     },
     "user_tz": -330
    },
    "id": "2exJZ5QP8__P",
    "outputId": "aebe53fd-0b3f-476c-fd23-d121da4f2db0"
   },
   "outputs": [
    {
     "name": "stdout",
     "output_type": "stream",
     "text": [
      "<class 'pandas.core.frame.DataFrame'>\n",
      "RangeIndex: 214 entries, 0 to 213\n",
      "Data columns (total 10 columns):\n",
      " #   Column  Non-Null Count  Dtype  \n",
      "---  ------  --------------  -----  \n",
      " 0   RI      214 non-null    float64\n",
      " 1   Na      214 non-null    float64\n",
      " 2   Mg      214 non-null    float64\n",
      " 3   Al      214 non-null    float64\n",
      " 4   Si      214 non-null    float64\n",
      " 5   K       214 non-null    float64\n",
      " 6   Ca      214 non-null    float64\n",
      " 7   Ba      214 non-null    float64\n",
      " 8   Fe      214 non-null    float64\n",
      " 9   Type    214 non-null    int64  \n",
      "dtypes: float64(9), int64(1)\n",
      "memory usage: 16.8 KB\n"
     ]
    }
   ],
   "source": [
    "glass.info()"
   ]
  },
  {
   "cell_type": "markdown",
   "metadata": {
    "id": "UYFq3nGd-z0U"
   },
   "source": [
    "**Observations**:\n",
    "\n",
    "- There are **214 entries** with **10 features**.\n",
    "\n",
    "- **9/10** features are of **float64** datatype.\n",
    "\n",
    "- Only the **Type** (target feature) is of **int64** type."
   ]
  },
  {
   "cell_type": "markdown",
   "metadata": {
    "id": "C8RrSeQ1dBPK"
   },
   "source": [
    "---\n",
    "<a name = Section5></a>\n",
    "# **5. Data Pre-Processing**\n",
    "---\n",
    "\n"
   ]
  },
  {
   "cell_type": "markdown",
   "metadata": {
    "id": "-LZVi0Ez5-v_"
   },
   "source": [
    "<a name = Section51></a>\n",
    "### **5.1 Data Pre-Profiling**\n",
    "\n",
    "- For **quick analysis** pandas profiling is very handy.\n",
    "\n",
    "- It generates profile reports from a pandas DataFrame.\n",
    "\n",
    "- For each feature **statistics** are presented in an interactive HTML report."
   ]
  },
  {
   "cell_type": "code",
   "execution_count": null,
   "metadata": {
    "id": "YeUNsl4a9N16"
   },
   "outputs": [],
   "source": [
    "# profile = ProfileReport(df=glass)\n",
    "# profile.to_file(output_file='Pre Profiling Report.html')\n",
    "# print('Accomplished!')"
   ]
  },
  {
   "cell_type": "markdown",
   "metadata": {
    "id": "IRQmckwTDSHq"
   },
   "source": [
    "**Observations**:\n",
    "\n",
    "- There are **214 observations** with **10 features**.\n",
    "\n",
    "- There are **no missing values** present in the dataset.\n",
    "\n",
    "- There is **one duplicate row** in the dataset. We will remove that.\n",
    "\n",
    "- Type is highly correlated to **Mg**, **Al**, **Na**, **Ca** and **Ba** features.\n",
    "\n",
    "- There are **zeros** present in **Mg**, **K**, **Ba**, and **Fe** features. They might have some **correspondence** to the **glass type**.\n",
    "\n",
    "- Also the composition of **K** mostly **ranges** between **0 and 1**.\n",
    "\n",
    "- We can observe slight **negative relation** between **Ca** and **Na** compositions."
   ]
  },
  {
   "cell_type": "markdown",
   "metadata": {
    "id": "DIpMXdJE6FXK"
   },
   "source": [
    "<a name = Section52></a>\n",
    "### **5.2 Data Cleaning**\n",
    "\n",
    "- In this section, we will **remove** the **duplicate row** present in the dataset."
   ]
  },
  {
   "cell_type": "code",
   "execution_count": null,
   "metadata": {
    "colab": {
     "base_uri": "https://localhost:8080/"
    },
    "executionInfo": {
     "elapsed": 366,
     "status": "ok",
     "timestamp": 1622524833098,
     "user": {
      "displayName": "Mukesh Kumar",
      "photoUrl": "https://lh3.googleusercontent.com/a-/AOh14GjTZH-ccUwdv--s75Iw1qfyi7gtUyH2m_-htD2e=s64",
      "userId": "01238672520445611335"
     },
     "user_tz": -330
    },
    "id": "IhRcn_YNFAWH",
    "outputId": "ecfbff9c-dcf6-4e6a-856e-d3a3d5e7ebc1"
   },
   "outputs": [
    {
     "data": {
      "text/plain": [
       "(213, 10)"
      ]
     },
     "execution_count": 3,
     "metadata": {
      "tags": []
     },
     "output_type": "execute_result"
    }
   ],
   "source": [
    "glass.drop_duplicates(inplace=True)\n",
    "glass.shape"
   ]
  },
  {
   "cell_type": "markdown",
   "metadata": {
    "id": "egPk0ApAFj0f"
   },
   "source": [
    "- The **duplicated** **row** has been **removed** now.\n",
    "\n",
    "- **NOTE**: We don't need to perform profiling on data again since we just removed one row from the data."
   ]
  },
  {
   "cell_type": "markdown",
   "metadata": {
    "id": "apkJnzw7FsaR"
   },
   "source": [
    "---\n",
    "<a name = Section7></a>\n",
    "# **6. Exploratory Data Analysis**\n",
    "---"
   ]
  },
  {
   "cell_type": "markdown",
   "metadata": {
    "id": "N47XYfloF87m"
   },
   "source": [
    "#### **Question:** What is the freqeuency distribution and proportion for each glass type?"
   ]
  },
  {
   "cell_type": "code",
   "execution_count": null,
   "metadata": {
    "colab": {
     "base_uri": "https://localhost:8080/",
     "height": 467
    },
    "executionInfo": {
     "elapsed": 994,
     "status": "ok",
     "timestamp": 1622524838732,
     "user": {
      "displayName": "Mukesh Kumar",
      "photoUrl": "https://lh3.googleusercontent.com/a-/AOh14GjTZH-ccUwdv--s75Iw1qfyi7gtUyH2m_-htD2e=s64",
      "userId": "01238672520445611335"
     },
     "user_tz": -330
    },
    "id": "6vL29CyLFXub",
    "outputId": "ab4101c3-fc62-4780-d252-a050532f4168"
   },
   "outputs": [
    {
     "data": {
      "image/png": "[encoded data removed]",
      "text/plain": [
       "<Figure size 1080x504 with 1 Axes>"
      ]
     },
     "metadata": {
      "needs_background": "light",
      "tags": []
     },
     "output_type": "display_data"
    }
   ],
   "source": [
    "# Create a figure of 15 x 7 inches\n",
    "fig = plt.figure(figsize=(15, 7))\n",
    "\n",
    "# Create a countplot for Type feature\n",
    "ax = sns.countplot(y='Type', data=glass, palette='hls')\n",
    "\n",
    "# Adding percentages to the bars\n",
    "total = glass.shape[0]\n",
    "for p in ax.patches:\n",
    "    percentage = '{:.2f}%'.format(100 * p.get_width() / total)\n",
    "    x = p.get_x() + p.get_width()\n",
    "    y = p.get_y() + p.get_height() / 2\n",
    "    ax.annotate(percentage, (x, y))\n",
    "\n",
    "# Adding some cosmetics\n",
    "plt.yticks(size=12)\n",
    "plt.xticks(size=12)\n",
    "plt.xlabel(xlabel=\"Count\", size=14)\n",
    "plt.ylabel(ylabel='Type', size=14)\n",
    "plt.title(label=\"Count plot for types of glasses\", size=16)\n",
    "plt.grid(b=True)\n",
    "\n",
    "# Display the output\n",
    "plt.show()"
   ]
  },
  {
   "cell_type": "markdown",
   "metadata": {
    "id": "7BGCDGbMH-gQ"
   },
   "source": [
    "**Observations:**\n",
    "\n",
    "- We can see that the **majority** glasses are of **Type 1 or 2**.\n",
    "\n",
    "- There are **no** glasses of **Type 4** in the dataset."
   ]
  },
  {
   "cell_type": "markdown",
   "metadata": {
    "id": "J6G7eAMg5Emx"
   },
   "source": [
    "#### **Question:** What is the frequency distribution of Al feature?\n",
    "\n"
   ]
  },
  {
   "cell_type": "code",
   "execution_count": null,
   "metadata": {
    "colab": {
     "base_uri": "https://localhost:8080/",
     "height": 394
    },
    "executionInfo": {
     "elapsed": 1005,
     "status": "ok",
     "timestamp": 1622524850791,
     "user": {
      "displayName": "Mukesh Kumar",
      "photoUrl": "https://lh3.googleusercontent.com/a-/AOh14GjTZH-ccUwdv--s75Iw1qfyi7gtUyH2m_-htD2e=s64",
      "userId": "01238672520445611335"
     },
     "user_tz": -330
    },
    "id": "_8tNIn5m5JIt",
    "outputId": "7b890983-b584-467f-f209-924b79dcfa4e"
   },
   "outputs": [
    {
     "data": {
      "image/png": "[encoded data removed]",
      "text/plain": [
       "<Figure size 1080x360 with 1 Axes>"
      ]
     },
     "metadata": {
      "needs_background": "light",
      "tags": []
     },
     "output_type": "display_data"
    }
   ],
   "source": [
    "# Create a countplot for Type feature\n",
    "sns.displot(x='Al', data=glass, kde=True, height=5, aspect=3)\n",
    "\n",
    "# Adding some cosmetics\n",
    "plt.yticks(size=12)\n",
    "plt.xticks(size=12)\n",
    "plt.xlabel(xlabel=\"Al Composition\", size=14)\n",
    "plt.ylabel(ylabel='Count', size=14)\n",
    "plt.title(label=\"Distribution of Al\", size=16)\n",
    "plt.grid(b=True)\n",
    "\n",
    "# Display the output\n",
    "plt.show()"
   ]
  },
  {
   "cell_type": "markdown",
   "metadata": {
    "id": "TfFOP_n-5pkn"
   },
   "source": [
    "**Observations**:\n",
    "\n",
    "- The distribution has **slightly skewed** towards right due to an **extreme value** of composition present between **3%** and **3.5%**.\n"
   ]
  },
  {
   "cell_type": "markdown",
   "metadata": {
    "id": "F7tBdDpmJisn"
   },
   "source": [
    "#### **Question:** What is dsitribution of RI feature concerning Type feature?"
   ]
  },
  {
   "cell_type": "code",
   "execution_count": null,
   "metadata": {
    "colab": {
     "base_uri": "https://localhost:8080/",
     "height": 588
    },
    "executionInfo": {
     "elapsed": 2421,
     "status": "ok",
     "timestamp": 1622525407597,
     "user": {
      "displayName": "Mukesh Kumar",
      "photoUrl": "https://lh3.googleusercontent.com/a-/AOh14GjTZH-ccUwdv--s75Iw1qfyi7gtUyH2m_-htD2e=s64",
      "userId": "01238672520445611335"
     },
     "user_tz": -330
    },
    "id": "HHnQ_msrJisq",
    "outputId": "c5ca9c88-5a24-420a-fda9-61c239804fdc"
   },
   "outputs": [
    {
     "data": {
      "image/png": "[encoded data removed]",
      "text/plain": [
       "<Figure size 1152x576 with 6 Axes>"
      ]
     },
     "metadata": {
      "needs_background": "light",
      "tags": []
     },
     "output_type": "display_data"
    }
   ],
   "source": [
    "# Instantiate a figure of size of 20 x 25 inches with 6 subplots\n",
    "fig, ax = plt.subplots(nrows=2, ncols=3, figsize=(16, 8))\n",
    "\n",
    "# Create KDE plots\n",
    "sns.histplot(x='RI', data=glass[glass['Type']==1], ax=ax[0, 0], kde=True)\n",
    "sns.histplot(x='RI', data=glass[glass['Type']==2], ax=ax[0, 1], kde=True)\n",
    "sns.histplot(x='RI', data=glass[glass['Type']==3], ax=ax[0, 2], kde=True)\n",
    "sns.histplot(x='RI', data=glass[glass['Type']==5], ax=ax[1, 0], kde=True)\n",
    "sns.histplot(x='RI', data=glass[glass['Type']==6], ax=ax[1, 1], kde=True)\n",
    "sns.histplot(x='RI', data=glass[glass['Type']==7], ax=ax[1, 2], kde=True)\n",
    "\n",
    "# Adding some cosmetics - ticks, labels, title, legend and grid.\n",
    "ax[0, 0].set_title(label='RI of Type 1 glass', fontsize=16)\n",
    "ax[0, 1].set_title(label='RI of Type 2 glass', fontsize=16)\n",
    "ax[0, 2].set_title(label='RI of Type 3 glass', fontsize=16)\n",
    "ax[1, 0].set_title(label='RI of Type 5 glass', fontsize=16)\n",
    "ax[1, 1].set_title(label='RI of Type 6 glass', fontsize=16)\n",
    "ax[1, 2].set_title(label='RI of Type 7 glass', fontsize=16)\n",
    "\n",
    "# We have to flatten axes (from (2,3) to (1,6) to apply cosmetics\n",
    "ax = ax.flatten()\n",
    "for axes in ax:\n",
    "  axes.set_ylabel(ylabel='Count', size=14)\n",
    "  axes.set_xlabel(xlabel='RI', size=14)\n",
    "  axes.grid(b=True)\n",
    "\n",
    "# Setting a super title for the plots\n",
    "plt.suptitle(t='Influence of RI on Type', size=18, y=1.02)\n",
    "plt.tight_layout(pad=3)\n",
    "\n",
    "# Display the figures\n",
    "plt.show()"
   ]
  },
  {
   "cell_type": "markdown",
   "metadata": {
    "id": "U-bodiovKRp4"
   },
   "source": [
    "**Observations**:\n",
    "\n",
    "- We observe that the **RI range** is **quite limited** in terms of glass **types** **3, 5, 6** and **7**.\n",
    "\n",
    "- It can also be due to **lower** numbers of **samples** present for the mentioned glass types.\n",
    "\n",
    "- **Type 1** and **2** have a **wide range** of **Refractive Index** present.\n",
    "\n",
    "- Glass **type 6** has the **lowest RI** while glass **type 2** shows the **highest RI**."
   ]
  },
  {
   "cell_type": "markdown",
   "metadata": {
    "id": "Zf1nMNXyILfj"
   },
   "source": [
    "\n",
    "#### **Question:** What is comparison between RI and Ca with respect to glass type?"
   ]
  },
  {
   "cell_type": "code",
   "execution_count": 26,
   "metadata": {
    "colab": {
     "base_uri": "https://localhost:8080/",
     "height": 588
    },
    "executionInfo": {
     "elapsed": 1973,
     "status": "ok",
     "timestamp": 1622527760459,
     "user": {
      "displayName": "Hiren Rupchandani",
      "photoUrl": "https://lh3.googleusercontent.com/a-/AOh14GhgU4n1VRWoxNACyzwiLFFnL3xL6qH1xJchHFekUbI=s64",
      "userId": "16888644812809569435"
     },
     "user_tz": -330
    },
    "id": "d3tw1vfMAVqt",
    "outputId": "b56cc7f1-3f7a-45b7-af0f-1cfe47d088f9"
   },
   "outputs": [
    {
     "data": {
      "image/png": "[encoded data removed]",
      "text/plain": [
       "<Figure size 1152x576 with 6 Axes>"
      ]
     },
     "metadata": {
      "needs_background": "light",
      "tags": []
     },
     "output_type": "display_data"
    }
   ],
   "source": [
    "# Instantiate a figure of size of 16 x 8 inches with 6 subplots\n",
    "fig, ax = plt.subplots(nrows=2, ncols=3, figsize=(16, 8))\n",
    "\n",
    "#Create plots\n",
    "sns.regplot(x='RI', y='Ca', data=glass[glass['Type']==1], ax=ax[0, 0], ci=None)\n",
    "sns.regplot(x='RI', y='Ca', data=glass[glass['Type']==2], ax=ax[0, 1], ci=None)\n",
    "sns.regplot(x='RI', y='Ca', data=glass[glass['Type']==3], ax=ax[0, 2], ci=None)\n",
    "sns.regplot(x='RI', y='Ca', data=glass[glass['Type']==5], ax=ax[1, 0], ci=None)\n",
    "sns.regplot(x='RI', y='Ca', data=glass[glass['Type']==6], ax=ax[1, 1], ci=None)\n",
    "sns.regplot(x='RI', y='Ca', data=glass[glass['Type']==7], ax=ax[1, 2], ci=None)\n",
    "\n",
    "# Adding some cosmetics - ticks, labels, title, legend and grid.\n",
    "ax[0, 0].set_title(label='RI vs Ca for Type 1 glass', fontsize=16)\n",
    "ax[0, 1].set_title(label='RI vs Ca for Type 2 glass', fontsize=16)\n",
    "ax[0, 2].set_title(label='RI vs Ca for Type 3 glass', fontsize=16)\n",
    "ax[1, 0].set_title(label='RI vs Ca for Type 5 glass', fontsize=16)\n",
    "ax[1, 1].set_title(label='RI vs Ca for Type 6 glass', fontsize=16)\n",
    "ax[1, 2].set_title(label='RI vs Ca for Type 7 glass', fontsize=16)\n",
    "\n",
    "# We have to flatten the axes (from (2,3) to (1,6) to apply cosmetics\n",
    "ax = ax.flatten()\n",
    "for axes in ax:\n",
    "  axes.set_ylabel(ylabel='Ca', size=14)\n",
    "  axes.set_xlabel(xlabel='RI', size=14)\n",
    "  axes.grid(b=True)\n",
    "\n",
    "# Setting a super title for the plots\n",
    "plt.suptitle(t='Influence of RI on Ca concerning Type', size=18, y=1.02)\n",
    "plt.tight_layout(pad=3)\n",
    "\n",
    "# Display the figures\n",
    "plt.show()"
   ]
  },
  {
   "cell_type": "markdown",
   "metadata": {
    "id": "GWF1DueDznsK"
   },
   "source": [
    "**Observations**:\n",
    "\n",
    "- We can observe a higher amount of **positive correlation** between the two features among **all the glass types**."
   ]
  },
  {
   "cell_type": "markdown",
   "metadata": {
    "id": "nnOE2eh14c_D"
   },
   "source": [
    "\n",
    "#### **Question:** What is relation between Na and Al with respect to glass type 1 and 2?"
   ]
  },
  {
   "cell_type": "code",
   "execution_count": null,
   "metadata": {
    "colab": {
     "base_uri": "https://localhost:8080/",
     "height": 515
    },
    "executionInfo": {
     "elapsed": 1672,
     "status": "ok",
     "timestamp": 1622526309939,
     "user": {
      "displayName": "Mukesh Kumar",
      "photoUrl": "https://lh3.googleusercontent.com/a-/AOh14GjTZH-ccUwdv--s75Iw1qfyi7gtUyH2m_-htD2e=s64",
      "userId": "01238672520445611335"
     },
     "user_tz": -330
    },
    "id": "DtT8bw-PpfVi",
    "outputId": "110fbb98-f15f-4d5b-f946-e0befe66ce88"
   },
   "outputs": [
    {
     "data": {
      "image/png": "[encoded data removed]",
      "text/plain": [
       "<Figure size 1080x504 with 2 Axes>"
      ]
     },
     "metadata": {
      "needs_background": "light",
      "tags": []
     },
     "output_type": "display_data"
    }
   ],
   "source": [
    "# Instantiate a figure of size of 15 x 7 inches with 6 subplots\n",
    "fig, ax = plt.subplots(nrows=1, ncols=2, figsize=(15, 7))\n",
    "\n",
    "# Create plots\n",
    "sns.regplot(x='Na', y='Al', data=glass[glass['Type']==1], ax=ax[0], ci=None)\n",
    "sns.regplot(x='Na', y='Al', data=glass[glass['Type']==2], ax=ax[1], ci=None)\n",
    "\n",
    "# Adding some cosmetics - labels, title and grid.\n",
    "ax[0].set_title(label='Na concerning Al for Type 1 glass', fontsize=16)\n",
    "ax[1].set_title(label='Na concerning Al for Type 2 glass', fontsize=16)\n",
    "\n",
    "for axes in ax:\n",
    "  axes.set_ylabel(ylabel='Na', size=14)\n",
    "  axes.set_xlabel(xlabel='Al', size=14)\n",
    "  axes.grid(b=True)\n",
    "\n",
    "# Setting a super title for the plots\n",
    "plt.suptitle(t='Influence of Na on Al concerning Type 1 & 2', size=18, y=1.02)\n",
    "plt.tight_layout(pad=3)\n",
    "\n",
    "# Display the figures\n",
    "plt.show()"
   ]
  },
  {
   "cell_type": "markdown",
   "metadata": {
    "id": "vjHo3W4N2TwU"
   },
   "source": [
    "**Observations**:\n",
    "\n",
    "- For glass **type=1**, we observe a **negative correlation** whereas for glass **type=2**, we observe no **relationship** between Al and Na.\n",
    "\n",
    "- We can infer that for **type 1 glass**, if **Na** is found in **higher** composition, **Al** should be found in slightly **lower** composition.\n"
   ]
  },
  {
   "cell_type": "markdown",
   "metadata": {
    "id": "2OuGj75R4hfp"
   },
   "source": [
    "\n",
    "#### **Question:** What is relation between Na and Ca with respect to glass type?"
   ]
  },
  {
   "cell_type": "code",
   "execution_count": null,
   "metadata": {
    "colab": {
     "base_uri": "https://localhost:8080/",
     "height": 588
    },
    "executionInfo": {
     "elapsed": 2568,
     "status": "ok",
     "timestamp": 1622526334245,
     "user": {
      "displayName": "Mukesh Kumar",
      "photoUrl": "https://lh3.googleusercontent.com/a-/AOh14GjTZH-ccUwdv--s75Iw1qfyi7gtUyH2m_-htD2e=s64",
      "userId": "01238672520445611335"
     },
     "user_tz": -330
    },
    "id": "LUCmMVWuzCYv",
    "outputId": "9edd6cf4-1c3a-4e7d-a3c8-003ce41f6826"
   },
   "outputs": [
    {
     "data": {
      "image/png": "[encoded data removed]",
      "text/plain": [
       "<Figure size 1152x576 with 6 Axes>"
      ]
     },
     "metadata": {
      "needs_background": "light",
      "tags": []
     },
     "output_type": "display_data"
    }
   ],
   "source": [
    "# Instantiate a figure of size of 16 x 8 inches with 6 subplots\n",
    "fig, ax = plt.subplots(nrows=2, ncols=3, figsize=(16, 8))\n",
    "\n",
    "# Create plots\n",
    "sns.regplot(x='Na', y='Ca', data=glass[glass['Type']==1], ax=ax[0, 0], ci=None)\n",
    "sns.regplot(x='Na', y='Ca', data=glass[glass['Type']==2], ax=ax[0, 1], ci=None)\n",
    "sns.regplot(x='Na', y='Ca', data=glass[glass['Type']==3], ax=ax[0, 2], ci=None)\n",
    "sns.regplot(x='Na', y='Ca', data=glass[glass['Type']==5], ax=ax[1, 0], ci=None)\n",
    "sns.regplot(x='Na', y='Ca', data=glass[glass['Type']==6], ax=ax[1, 1], ci=None)\n",
    "sns.regplot(x='Na', y='Ca', data=glass[glass['Type']==7], ax=ax[1, 2], ci=None)\n",
    "\n",
    "# Adding some cosmetics - labels, title and grid.\n",
    "ax[0, 0].set_title(label='Na concerning Ca for Type 1 glass', fontsize=16)\n",
    "ax[0, 1].set_title(label='Na concerning Ca for Type 2 glass', fontsize=16)\n",
    "ax[0, 2].set_title(label='Na concerning Ca for Type 3 glass', fontsize=16)\n",
    "ax[1, 0].set_title(label='Na concerning Ca for Type 5 glass', fontsize=16)\n",
    "ax[1, 1].set_title(label='Na concerning Ca for Type 6 glass', fontsize=16)\n",
    "ax[1, 2].set_title(label='Na concerning Ca for Type 7 glass', fontsize=16)\n",
    "\n",
    "# We have to flatten axes (from (2,3) to (1,6) to apply cosmetics\n",
    "ax = ax.flatten()\n",
    "for axes in ax:\n",
    "  axes.set_ylabel(ylabel='Na', size=14)\n",
    "  axes.set_xlabel(xlabel='Ca', size=14)\n",
    "  axes.grid(b=True)\n",
    "\n",
    "# Setting a super title for the plots\n",
    "plt.suptitle(t='Influence of Na on Ca concerning Type', size=18, y=1.02)\n",
    "plt.tight_layout(pad=3)\n",
    "\n",
    "# Display the figures\n",
    "plt.show()"
   ]
  },
  {
   "cell_type": "markdown",
   "metadata": {
    "id": "z0VFjLGgLjN7"
   },
   "source": [
    "**Observations:**\n",
    "\n",
    "- We can see that there some **negative relation** between the features concerning the **glass type 2, 5 and 6**.\n",
    "\n",
    "- There seems to be some **positive correlation** among the two features for glass **types 1 and 3**.\n",
    "\n",
    "- There is no **relation** between the two features for **type 7**."
   ]
  },
  {
   "cell_type": "markdown",
   "metadata": {
    "id": "3_5n47EaXBi3"
   },
   "source": [
    "---\n",
    "<a name = Section7></a>\n",
    "# **7. Data Post-Processing**\n",
    "---"
   ]
  },
  {
   "cell_type": "markdown",
   "metadata": {
    "id": "nq5Ho-XhYTH-"
   },
   "source": [
    "<a name=Section71></a>\n",
    "### **7.1 Feature Scaling**\n",
    "\n",
    "- In this section, we will be using a **StandardScaler** to scale the data."
   ]
  },
  {
   "cell_type": "code",
   "execution_count": null,
   "metadata": {
    "colab": {
     "base_uri": "https://localhost:8080/",
     "height": 198
    },
    "executionInfo": {
     "elapsed": 14,
     "status": "ok",
     "timestamp": 1622456620677,
     "user": {
      "displayName": "Hiren Rupchandani",
      "photoUrl": "https://lh3.googleusercontent.com/a-/AOh14GhgU4n1VRWoxNACyzwiLFFnL3xL6qH1xJchHFekUbI=s64",
      "userId": "16888644812809569435"
     },
     "user_tz": -330
    },
    "id": "KBFy1NraYSlL",
    "outputId": "3e285699-eede-4025-cd19-cbd9dcc459c5"
   },
   "outputs": [
    {
     "data": {
      "text/html": [
       "<div>\n",
       "<style scoped>\n",
       "    .dataframe tbody tr th:only-of-type {\n",
       "        vertical-align: middle;\n",
       "    }\n",
       "\n",
       "    .dataframe tbody tr th {\n",
       "        vertical-align: top;\n",
       "    }\n",
       "\n",
       "    .dataframe thead th {\n",
       "        text-align: right;\n",
       "    }\n",
       "</style>\n",
       "<table border=\"1\" class=\"dataframe\">\n",
       "  <thead>\n",
       "    <tr style=\"text-align: right;\">\n",
       "      <th></th>\n",
       "      <th>RI</th>\n",
       "      <th>Na</th>\n",
       "      <th>Mg</th>\n",
       "      <th>Al</th>\n",
       "      <th>Si</th>\n",
       "      <th>K</th>\n",
       "      <th>Ca</th>\n",
       "      <th>Ba</th>\n",
       "      <th>Fe</th>\n",
       "    </tr>\n",
       "  </thead>\n",
       "  <tbody>\n",
       "    <tr>\n",
       "      <th>0</th>\n",
       "      <td>0.87984</td>\n",
       "      <td>0.28956</td>\n",
       "      <td>1.25724</td>\n",
       "      <td>-0.70637</td>\n",
       "      <td>-1.13325</td>\n",
       "      <td>-0.67348</td>\n",
       "      <td>-0.14347</td>\n",
       "      <td>-0.35381</td>\n",
       "      <td>-0.58830</td>\n",
       "    </tr>\n",
       "    <tr>\n",
       "      <th>1</th>\n",
       "      <td>-0.24382</td>\n",
       "      <td>0.59640</td>\n",
       "      <td>0.63931</td>\n",
       "      <td>-0.18086</td>\n",
       "      <td>0.09704</td>\n",
       "      <td>-0.02896</td>\n",
       "      <td>-0.79020</td>\n",
       "      <td>-0.35381</td>\n",
       "      <td>-0.58830</td>\n",
       "    </tr>\n",
       "    <tr>\n",
       "      <th>2</th>\n",
       "      <td>-0.71641</td>\n",
       "      <td>0.15455</td>\n",
       "      <td>0.60460</td>\n",
       "      <td>0.18295</td>\n",
       "      <td>0.43375</td>\n",
       "      <td>-0.16707</td>\n",
       "      <td>-0.82535</td>\n",
       "      <td>-0.35381</td>\n",
       "      <td>-0.58830</td>\n",
       "    </tr>\n",
       "    <tr>\n",
       "      <th>3</th>\n",
       "      <td>-0.22729</td>\n",
       "      <td>-0.23822</td>\n",
       "      <td>0.70180</td>\n",
       "      <td>-0.32235</td>\n",
       "      <td>-0.05837</td>\n",
       "      <td>0.10915</td>\n",
       "      <td>-0.51604</td>\n",
       "      <td>-0.35381</td>\n",
       "      <td>-0.58830</td>\n",
       "    </tr>\n",
       "    <tr>\n",
       "      <th>4</th>\n",
       "      <td>-0.30661</td>\n",
       "      <td>-0.16457</td>\n",
       "      <td>0.65320</td>\n",
       "      <td>-0.42340</td>\n",
       "      <td>0.55030</td>\n",
       "      <td>0.07846</td>\n",
       "      <td>-0.62149</td>\n",
       "      <td>-0.35381</td>\n",
       "      <td>-0.58830</td>\n",
       "    </tr>\n",
       "  </tbody>\n",
       "</table>\n",
       "</div>"
      ],
      "text/plain": [
       "        RI       Na      Mg       Al       Si        K       Ca       Ba  \\\n",
       "0  0.87984  0.28956 1.25724 -0.70637 -1.13325 -0.67348 -0.14347 -0.35381   \n",
       "1 -0.24382  0.59640 0.63931 -0.18086  0.09704 -0.02896 -0.79020 -0.35381   \n",
       "2 -0.71641  0.15455 0.60460  0.18295  0.43375 -0.16707 -0.82535 -0.35381   \n",
       "3 -0.22729 -0.23822 0.70180 -0.32235 -0.05837  0.10915 -0.51604 -0.35381   \n",
       "4 -0.30661 -0.16457 0.65320 -0.42340  0.55030  0.07846 -0.62149 -0.35381   \n",
       "\n",
       "        Fe  \n",
       "0 -0.58830  \n",
       "1 -0.58830  \n",
       "2 -0.58830  \n",
       "3 -0.58830  \n",
       "4 -0.58830  "
      ]
     },
     "execution_count": 13,
     "metadata": {
      "tags": []
     },
     "output_type": "execute_result"
    }
   ],
   "source": [
    "# Splitting the dataset into X (features) and y(labels)\n",
    "X = glass.loc[:, glass.columns != 'Type']\n",
    "y = glass['Type']\n",
    "\n",
    "# Instantiating a standard scaler\n",
    "sc = StandardScaler()\n",
    "\n",
    "# Scaling the features\n",
    "scaled_values = sc.fit_transform(X)\n",
    "\n",
    "# Putting the scaled features in a dataframe\n",
    "scaled_X = pd.DataFrame(data=scaled_values, columns=glass.columns[:-1])\n",
    "\n",
    "scaled_X.head()"
   ]
  },
  {
   "cell_type": "markdown",
   "metadata": {
    "id": "2uUOp7BEfaQQ"
   },
   "source": [
    "<a name=Section72></a>\n",
    "### **7.2 Data Splitting**\n",
    "\n",
    "- In this section, we will be **splitting** the data into **train** and **test data** and checking their shapes."
   ]
  },
  {
   "cell_type": "code",
   "execution_count": null,
   "metadata": {
    "colab": {
     "base_uri": "https://localhost:8080/"
    },
    "executionInfo": {
     "elapsed": 14,
     "status": "ok",
     "timestamp": 1622456620678,
     "user": {
      "displayName": "Hiren Rupchandani",
      "photoUrl": "https://lh3.googleusercontent.com/a-/AOh14GhgU4n1VRWoxNACyzwiLFFnL3xL6qH1xJchHFekUbI=s64",
      "userId": "16888644812809569435"
     },
     "user_tz": -330
    },
    "id": "lnPsnfyiff02",
    "outputId": "3c4593e6-9e72-4d14-ff81-d9d83a77f430"
   },
   "outputs": [
    {
     "name": "stdout",
     "output_type": "stream",
     "text": [
      "Training Data Shape: (149, 9) (149,)\n",
      "Testing Data Shape: (64, 9) (64,)\n"
     ]
    }
   ],
   "source": [
    "X_train, X_test, y_train, y_test = train_test_split(scaled_X, y, test_size=0.3, random_state=42, stratify=y)\n",
    "\n",
    "# Print the shape of the train and test sets\n",
    "print('Training Data Shape:', X_train.shape, y_train.shape)\n",
    "print('Testing Data Shape:', X_test.shape, y_test.shape)"
   ]
  },
  {
   "cell_type": "markdown",
   "metadata": {
    "id": "2Vwy-vNZlNWK"
   },
   "source": [
    "---\n",
    "<a name = Section8></a>\n",
    "# **8. Model Development & Evaluation**\n",
    "---"
   ]
  },
  {
   "cell_type": "markdown",
   "metadata": {
    "id": "dZ9oafHJvcXL"
   },
   "source": [
    "<a name = Section81></a>\n",
    "### **8.1 Model Development & Evaluation without tuning**\n",
    "\n",
    "- We will use various models with **KNN Classifier** for **comparison**."
   ]
  },
  {
   "cell_type": "code",
   "execution_count": null,
   "metadata": {
    "colab": {
     "base_uri": "https://localhost:8080/"
    },
    "executionInfo": {
     "elapsed": 10,
     "status": "ok",
     "timestamp": 1622456620678,
     "user": {
      "displayName": "Hiren Rupchandani",
      "photoUrl": "https://lh3.googleusercontent.com/a-/AOh14GhgU4n1VRWoxNACyzwiLFFnL3xL6qH1xJchHFekUbI=s64",
      "userId": "16888644812809569435"
     },
     "user_tz": -330
    },
    "id": "m5hQbh0vgc3R",
    "outputId": "dd012748-dbec-4310-9645-755071f8031f"
   },
   "outputs": [
    {
     "name": "stdout",
     "output_type": "stream",
     "text": [
      "Performance Metric of KNeighborsClassifier :\n",
      "[Train Accuracy]: 0.738255033557047\n",
      "[Test Accuracy]: 0.703125\n",
      "----------------------------------------\n",
      "\n",
      "Performance Metric of RandomForestClassifier :\n",
      "[Train Accuracy]: 1.0\n",
      "[Test Accuracy]: 0.8125\n",
      "----------------------------------------\n",
      "\n",
      "Performance Metric of GaussianNB :\n",
      "[Train Accuracy]: 0.5906040268456376\n",
      "[Test Accuracy]: 0.46875\n",
      "----------------------------------------\n",
      "\n",
      "Performance Metric of LogisticRegression :\n",
      "[Train Accuracy]: 0.6778523489932886\n",
      "[Test Accuracy]: 0.671875\n",
      "----------------------------------------\n",
      "\n"
     ]
    }
   ],
   "source": [
    "# Instantiating various classifiers\n",
    "clfs = [KNeighborsClassifier(),\n",
    "        RandomForestClassifier(random_state=0, class_weight='balanced'),\n",
    "        GaussianNB(),\n",
    "        LogisticRegression(random_state=0)]\n",
    "\n",
    "for clf in clfs:\n",
    "  # Extracting model name\n",
    "  model_name = type(clf).__name__\n",
    "\n",
    "  # Fit the model on train data\n",
    "  clf.fit(X_train, y_train)\n",
    "\n",
    "  # Make predictions using test data\n",
    "  y_pred_train = clf.predict(X_train)\n",
    "\n",
    "  # Make predictions using test data\n",
    "  y_pred = clf.predict(X_test)\n",
    "\n",
    "  # Calculate the train accuracy of the model\n",
    "  clf_train_accuracy = accuracy_score(y_train, y_pred_train)\n",
    "\n",
    "  # Calculate the test accuracy of the model\n",
    "  clf_accuracy = accuracy_score(y_test, y_pred)\n",
    "\n",
    "  # Display the accuracy of the model\n",
    "  print('Performance Metric of', model_name, ':')\n",
    "  print('[Train Accuracy]:', clf_train_accuracy)\n",
    "  print('[Test Accuracy]:', clf_accuracy)\n",
    "  print('----------------------------------------\\n')"
   ]
  },
  {
   "cell_type": "markdown",
   "metadata": {
    "id": "RqEWkyaOmBLU"
   },
   "source": [
    "**Observations**: \n",
    "\n",
    "- The **KNN** model has a decent **train accuracy** of **70.3%**.\n",
    "\n",
    "- The **Logistic Regression** model **generalizes well** but has **lower accuracy**.\n",
    "\n",
    "- The **Random Forest Classifier** has a good **test accuracy** of **81.25%**.\n",
    "\n",
    "- The **Naive Bayes classifier** lags behind the rest with a **test accuracy** of just **46.8%**."
   ]
  },
  {
   "cell_type": "markdown",
   "metadata": {
    "id": "l4tN8G_X1GBo"
   },
   "source": [
    "<a name = Section82></a>\n",
    "### **8.2 Hyperparameter Tuning**\n",
    "\n",
    "- The **base-class** **Random Forest** and **KNN Classifier** models **perform well** on our data.\n",
    "\n",
    "- We will **tune** these models to find the **optimal parameters**."
   ]
  },
  {
   "cell_type": "code",
   "execution_count": null,
   "metadata": {
    "colab": {
     "base_uri": "https://localhost:8080/"
    },
    "executionInfo": {
     "elapsed": 724514,
     "status": "ok",
     "timestamp": 1622457345184,
     "user": {
      "displayName": "Hiren Rupchandani",
      "photoUrl": "https://lh3.googleusercontent.com/a-/AOh14GhgU4n1VRWoxNACyzwiLFFnL3xL6qH1xJchHFekUbI=s64",
      "userId": "16888644812809569435"
     },
     "user_tz": -330
    },
    "id": "wvTNZux0clSg",
    "outputId": "93e79572-f72d-4937-e429-5f15434ba7ec"
   },
   "outputs": [
    {
     "name": "stdout",
     "output_type": "stream",
     "text": [
      "Time taken for tuning RandomForestClassifier  is:  598.84 sec\n",
      "----------------------------------------\n",
      "\n",
      "Time taken for tuning KNeighborsClassifier  is:  127.1 sec\n",
      "----------------------------------------\n",
      "\n"
     ]
    }
   ],
   "source": [
    "# Creating a parameter grid for Random Forest and KNN\n",
    "param_grid_rfc = { 'n_estimators': [50, 100, 500, 1000],\n",
    "                  'max_features': ['auto', 'sqrt', 'log2'],\n",
    "                  'max_depth' : [3, 4, 5, 6, 7, 8, 9, 10],\n",
    "                  'criterion' :['gini', 'entropy']}\n",
    "\n",
    "param_grid_knn = {'n_neighbors': list(range(2, 20)),\n",
    "                  'metric': ['minkowski',],\n",
    "                  'algorithm': ['auto', 'ball_tree', 'kd_tree', 'brute'],\n",
    "                  'p': list(range(1,6)),\n",
    "                  'weights': [\"uniform\", \"distance\"]}\n",
    "\n",
    "# Putting the parameters in a list\n",
    "param_grid = [param_grid_rfc, param_grid_knn]\n",
    "\n",
    "i = 0\n",
    "\n",
    "# Creating lists to store scores, models and parameters\n",
    "best_scores = []\n",
    "best_models = []\n",
    "best_params = []\n",
    "\n",
    "# Instantiating models\n",
    "clfs = [RandomForestClassifier(random_state=42, class_weight='balanced'), KNeighborsClassifier(n_jobs=-1)]\n",
    "\n",
    "for clf in clfs:\n",
    "  # Extracting model name\n",
    "  model_name = type(clf).__name__\n",
    "\n",
    "  # Applying GridSearchCV on the model\n",
    "  cv = GridSearchCV(estimator=clf, param_grid=param_grid[i], cv= 5)\n",
    "\n",
    "  # Calculating start time\n",
    "  start_time = time.time()\n",
    "\n",
    "  # Fitting the model in train set\n",
    "  cv.fit(X_train, y_train)\n",
    "\n",
    "  # Calculating evaluated time\n",
    "  evaluated_time = time.time()-start_time\n",
    "\n",
    "  # Append best score, parameters and models in lists\n",
    "  best_scores.append(cv.best_score_)\n",
    "  best_params.append(cv.best_params_)\n",
    "  best_models.append(cv.best_estimator_)\n",
    "\n",
    "  # Print time taken for tuning\n",
    "  print('Time taken for tuning', model_name ,' is: ', np.round(evaluated_time, 2), 'sec')\n",
    "  print('----------------------------------------\\n')\n",
    "  i += 1"
   ]
  },
  {
   "cell_type": "markdown",
   "metadata": {
    "id": "Twm0WlmgO_Ip"
   },
   "source": [
    "<a name = Section83></a>\n",
    "### **8.3 Model Development & Evaluation after Tuning**\n",
    "\n",
    "- In this section, we will **fit** the **best models** on our train data and **test** those models."
   ]
  },
  {
   "cell_type": "code",
   "execution_count": null,
   "metadata": {
    "colab": {
     "base_uri": "https://localhost:8080/"
    },
    "executionInfo": {
     "elapsed": 2225,
     "status": "ok",
     "timestamp": 1622457347404,
     "user": {
      "displayName": "Hiren Rupchandani",
      "photoUrl": "https://lh3.googleusercontent.com/a-/AOh14GhgU4n1VRWoxNACyzwiLFFnL3xL6qH1xJchHFekUbI=s64",
      "userId": "16888644812809569435"
     },
     "user_tz": -330
    },
    "id": "ODy76bAHtHe5",
    "outputId": "ad8a0e74-ed4a-40a4-a265-0dc8aa2f609c"
   },
   "outputs": [
    {
     "name": "stdout",
     "output_type": "stream",
     "text": [
      "Performance Metric of RandomForestClassifier :\n",
      "[Train Accuracy]: 1.0\n",
      "[Test Accuracy]: 0.828125\n",
      "----------------------------------------\n",
      "\n",
      "Performance Metric of KNeighborsClassifier :\n",
      "[Train Accuracy]: 1.0\n",
      "[Test Accuracy]: 0.796875\n",
      "----------------------------------------\n",
      "\n"
     ]
    }
   ],
   "source": [
    "for clf in best_models:\n",
    "\n",
    "  # Extracting model name\n",
    "  model_name = type(clf).__name__\n",
    "  \n",
    "  # Fit the model on train data\n",
    "  clf.fit(X_train, y_train)\n",
    "\n",
    "  # Make predictions using test data\n",
    "  y_pred_train = clf.predict(X_train)\n",
    "\n",
    "  # Make predictions using test data\n",
    "  y_pred = clf.predict(X_test)\n",
    "\n",
    "  # Calculate the train accuracy of the model\n",
    "  clf_train_accuracy = accuracy_score(y_train, y_pred_train)\n",
    "\n",
    "  # Calculate the test accuracy of the model\n",
    "  clf_accuracy = accuracy_score(y_test, y_pred)\n",
    "\n",
    "  # Display the accuracy of the model\n",
    "  print('Performance Metric of', model_name, ':')\n",
    "  print('[Train Accuracy]:', clf_train_accuracy)\n",
    "  print('[Test Accuracy]:', clf_accuracy)\n",
    "  print('----------------------------------------\\n')"
   ]
  },
  {
   "cell_type": "markdown",
   "metadata": {
    "id": "vcW7ukA6PccZ"
   },
   "source": [
    "**Observations**:\n",
    "\n",
    "- The **training accuracy** of both models is at **100%**.\n",
    "\n",
    "- The **random forest** model has a **slight improvement** in its **test accuracy**.\n",
    "\n",
    "- But we can observe a **massive improvement** in the **KNN Classifier**.\n",
    "\n",
    "- The **test accuracy** went from **70.3** to  **79.6%**."
   ]
  },
  {
   "cell_type": "markdown",
   "metadata": {
    "id": "bV6VdT_sRtE4"
   },
   "source": [
    "<a name = Section93></a>\n",
    "### **8.3 Cross-Validating the Models**\n",
    "\n",
    "- In this section, we will perform **cross-validation** to **estimate** the **performance** of our best models."
   ]
  },
  {
   "cell_type": "code",
   "execution_count": null,
   "metadata": {
    "id": "jdj2rO6vuNgV"
   },
   "outputs": [],
   "source": [
    "# Creating list of cv scores\n",
    "cv_train_scores = []\n",
    "cv_test_scores = []\n",
    "cv_test_mean = []\n",
    "\n",
    "for clf in best_models:\n",
    "\n",
    "  # Extracting model name\n",
    "  model_name = type(clf).__name__\n",
    "\n",
    "  # Calculating scores using cross validation\n",
    "  # Using KFold() with 5 folds\n",
    "  scores = cross_validate(estimator=clf,\n",
    "                          X=X_train,\n",
    "                          y=y_train,\n",
    "                          cv=KFold(n_splits=5, random_state=42), \n",
    "                          scoring='accuracy', \n",
    "                          return_train_score=True)\n",
    "\n",
    "  # scores is a dictionary with keys like test_score, train_score, fit_time, etc\n",
    "  # We will extract test_score and append it to our cv_scores list\n",
    "  cv_train_scores.append(scores['train_score'])\n",
    "  cv_test_scores.append(scores['test_score'])\n",
    "\n",
    "  # Calculating the mean of scores for both the models\n",
    "  cv_test_mean.append((scores['test_score'].mean()))"
   ]
  },
  {
   "cell_type": "markdown",
   "metadata": {
    "id": "LvA6wzrPa0Wh"
   },
   "source": [
    "- We will create a **plot** for **accuracy** vs **number of folds**."
   ]
  },
  {
   "cell_type": "code",
   "execution_count": null,
   "metadata": {
    "colab": {
     "base_uri": "https://localhost:8080/",
     "height": 517
    },
    "executionInfo": {
     "elapsed": 2318,
     "status": "ok",
     "timestamp": 1622457358615,
     "user": {
      "displayName": "Hiren Rupchandani",
      "photoUrl": "https://lh3.googleusercontent.com/a-/AOh14GhgU4n1VRWoxNACyzwiLFFnL3xL6qH1xJchHFekUbI=s64",
      "userId": "16888644812809569435"
     },
     "user_tz": -330
    },
    "id": "_ibKmj_P00Vx",
    "outputId": "3c809a53-709f-46e3-e2ca-8a7c8cf1a0c6"
   },
   "outputs": [
    {
     "data": {
      "text/html": [
       "<html>\n",
       "<head><meta charset=\"utf-8\" /></head>\n",
       "<body>\n",
       "    <div>\n",
       "            <script src=\"https://cdnjs.cloudflare.com/ajax/libs/mathjax/2.7.5/MathJax.js?config=TeX-AMS-MML_SVG\"></script><script type=\"text/javascript\">if (window.MathJax) {MathJax.Hub.Config({SVG: {font: \"STIX-Web\"}});}</script>\n",
       "                <script type=\"text/javascript\">window.PlotlyConfig = {MathJaxConfig: 'local'};</script>\n",
       "        <script src=\"https://cdn.plot.ly/plotly-latest.min.js\"></script>    \n",
       "            <div id=\"e07092af-3493-42d2-a370-c80c422d64a7\" class=\"plotly-graph-div\" style=\"height:500px; width:1000px;\"></div>\n",
       "            <script type=\"text/javascript\">\n",
       "                \n",
       "                    window.PLOTLYENV=window.PLOTLYENV || {};\n",
       "                    \n",
       "                if (document.getElementById(\"e07092af-3493-42d2-a370-c80c422d64a7\")) {\n",
       "                    Plotly.newPlot(\n",
       "                        'e07092af-3493-42d2-a370-c80c422d64a7',\n",
       "                        [{\"hoverinfo\": \"all\", \"mode\": \"lines+markers\", \"name\": \"Train\", \"type\": \"scatter\", \"x\": [1, 2, 3, 4, 5], \"xaxis\": \"x\", \"y\": [100.0, 100.0, 100.0, 100.0, 100.0], \"yaxis\": \"y\"}, {\"hoverinfo\": \"all\", \"mode\": \"lines+markers\", \"name\": \"Test\", \"type\": \"scatter\", \"x\": [1, 2, 3, 4, 5], \"xaxis\": \"x\", \"y\": [66.66666666666666, 63.33333333333333, 80.0, 76.66666666666667, 79.3103448275862], \"yaxis\": \"y\"}, {\"hoverinfo\": \"all\", \"line\": {\"dash\": \"dash\"}, \"mode\": \"lines\", \"name\": \"Mean\", \"type\": \"scatter\", \"x\": [1, 2, 3, 4, 5], \"xaxis\": \"x\", \"y\": [73.19540229885057, 73.19540229885057, 73.19540229885057, 73.19540229885057, 73.19540229885057], \"yaxis\": \"y\"}, {\"hoverinfo\": \"all\", \"mode\": \"lines+markers\", \"name\": \"Train\", \"type\": \"scatter\", \"x\": [1, 2, 3, 4, 5], \"xaxis\": \"x2\", \"y\": [100.0, 100.0, 100.0, 100.0, 100.0], \"yaxis\": \"y2\"}, {\"hoverinfo\": \"all\", \"mode\": \"lines+markers\", \"name\": \"Test\", \"type\": \"scatter\", \"x\": [1, 2, 3, 4, 5], \"xaxis\": \"x2\", \"y\": [73.33333333333333, 60.0, 70.0, 83.33333333333334, 65.51724137931035], \"yaxis\": \"y2\"}, {\"hoverinfo\": \"all\", \"line\": {\"dash\": \"dash\"}, \"mode\": \"lines\", \"name\": \"Mean\", \"type\": \"scatter\", \"x\": [1, 2, 3, 4, 5], \"xaxis\": \"x2\", \"y\": [70.4367816091954, 70.4367816091954, 70.4367816091954, 70.4367816091954, 70.4367816091954], \"yaxis\": \"y2\"}],\n",
       "                        {\"annotations\": [{\"font\": {\"size\": 16}, \"showarrow\": false, \"text\": \"Random Forest: Accuracy vs Folds\", \"x\": 0.225, \"xanchor\": \"center\", \"xref\": \"paper\", \"y\": 1.0, \"yanchor\": \"bottom\", \"yref\": \"paper\"}, {\"font\": {\"size\": 16}, \"showarrow\": false, \"text\": \"KNN: Accuracy vs Folds\", \"x\": 0.775, \"xanchor\": \"center\", \"xref\": \"paper\", \"y\": 1.0, \"yanchor\": \"bottom\", \"yref\": \"paper\"}, {\"font\": {\"size\": 16}, \"showarrow\": false, \"text\": \"Fold Number\", \"x\": 0.5, \"xanchor\": \"center\", \"xref\": \"paper\", \"y\": 0, \"yanchor\": \"top\", \"yref\": \"paper\", \"yshift\": -30}, {\"font\": {\"size\": 16}, \"showarrow\": false, \"text\": \"Accuracy (%)\", \"textangle\": -90, \"x\": 0, \"xanchor\": \"right\", \"xref\": \"paper\", \"xshift\": -40, \"y\": 0.5, \"yanchor\": \"middle\", \"yref\": \"paper\"}], \"height\": 500, \"template\": {\"data\": {\"bar\": [{\"error_x\": {\"color\": \"#2a3f5f\"}, \"error_y\": {\"color\": \"#2a3f5f\"}, \"marker\": {\"line\": {\"color\": \"#E5ECF6\", \"width\": 0.5}}, \"type\": \"bar\"}], \"barpolar\": [{\"marker\": {\"line\": {\"color\": \"#E5ECF6\", \"width\": 0.5}}, \"type\": \"barpolar\"}], \"carpet\": [{\"aaxis\": {\"endlinecolor\": \"#2a3f5f\", \"gridcolor\": \"white\", \"linecolor\": \"white\", \"minorgridcolor\": \"white\", \"startlinecolor\": \"#2a3f5f\"}, \"baxis\": {\"endlinecolor\": \"#2a3f5f\", \"gridcolor\": \"white\", \"linecolor\": \"white\", \"minorgridcolor\": \"white\", \"startlinecolor\": \"#2a3f5f\"}, \"type\": \"carpet\"}], \"choropleth\": [{\"colorbar\": {\"outlinewidth\": 0, \"ticks\": \"\"}, \"type\": \"choropleth\"}], \"contour\": [{\"colorbar\": {\"outlinewidth\": 0, \"ticks\": \"\"}, \"colorscale\": [[0.0, \"#0d0887\"], [0.1111111111111111, \"#46039f\"], [0.2222222222222222, \"#7201a8\"], [0.3333333333333333, \"#9c179e\"], [0.4444444444444444, \"#bd3786\"], [0.5555555555555556, \"#d8576b\"], [0.6666666666666666, \"#ed7953\"], [0.7777777777777778, \"#fb9f3a\"], [0.8888888888888888, \"#fdca26\"], [1.0, \"#f0f921\"]], \"type\": \"contour\"}], \"contourcarpet\": [{\"colorbar\": {\"outlinewidth\": 0, \"ticks\": \"\"}, \"type\": \"contourcarpet\"}], \"heatmap\": [{\"colorbar\": {\"outlinewidth\": 0, \"ticks\": \"\"}, \"colorscale\": [[0.0, \"#0d0887\"], [0.1111111111111111, \"#46039f\"], [0.2222222222222222, \"#7201a8\"], [0.3333333333333333, \"#9c179e\"], [0.4444444444444444, \"#bd3786\"], [0.5555555555555556, \"#d8576b\"], [0.6666666666666666, \"#ed7953\"], [0.7777777777777778, \"#fb9f3a\"], [0.8888888888888888, \"#fdca26\"], [1.0, \"#f0f921\"]], \"type\": \"heatmap\"}], \"heatmapgl\": [{\"colorbar\": {\"outlinewidth\": 0, \"ticks\": \"\"}, \"colorscale\": [[0.0, \"#0d0887\"], [0.1111111111111111, \"#46039f\"], [0.2222222222222222, \"#7201a8\"], [0.3333333333333333, \"#9c179e\"], [0.4444444444444444, \"#bd3786\"], [0.5555555555555556, \"#d8576b\"], [0.6666666666666666, \"#ed7953\"], [0.7777777777777778, \"#fb9f3a\"], [0.8888888888888888, \"#fdca26\"], [1.0, \"#f0f921\"]], \"type\": \"heatmapgl\"}], \"histogram\": [{\"marker\": {\"colorbar\": {\"outlinewidth\": 0, \"ticks\": \"\"}}, \"type\": \"histogram\"}], \"histogram2d\": [{\"colorbar\": {\"outlinewidth\": 0, \"ticks\": \"\"}, \"colorscale\": [[0.0, \"#0d0887\"], [0.1111111111111111, \"#46039f\"], [0.2222222222222222, \"#7201a8\"], [0.3333333333333333, \"#9c179e\"], [0.4444444444444444, \"#bd3786\"], [0.5555555555555556, \"#d8576b\"], [0.6666666666666666, \"#ed7953\"], [0.7777777777777778, \"#fb9f3a\"], [0.8888888888888888, \"#fdca26\"], [1.0, \"#f0f921\"]], \"type\": \"histogram2d\"}], \"histogram2dcontour\": [{\"colorbar\": {\"outlinewidth\": 0, \"ticks\": \"\"}, \"colorscale\": [[0.0, \"#0d0887\"], [0.1111111111111111, \"#46039f\"], [0.2222222222222222, \"#7201a8\"], [0.3333333333333333, \"#9c179e\"], [0.4444444444444444, \"#bd3786\"], [0.5555555555555556, \"#d8576b\"], [0.6666666666666666, \"#ed7953\"], [0.7777777777777778, \"#fb9f3a\"], [0.8888888888888888, \"#fdca26\"], [1.0, \"#f0f921\"]], \"type\": \"histogram2dcontour\"}], \"mesh3d\": [{\"colorbar\": {\"outlinewidth\": 0, \"ticks\": \"\"}, \"type\": \"mesh3d\"}], \"parcoords\": [{\"line\": {\"colorbar\": {\"outlinewidth\": 0, \"ticks\": \"\"}}, \"type\": \"parcoords\"}], \"pie\": [{\"automargin\": true, \"type\": \"pie\"}], \"scatter\": [{\"marker\": {\"colorbar\": {\"outlinewidth\": 0, \"ticks\": \"\"}}, \"type\": \"scatter\"}], \"scatter3d\": [{\"line\": {\"colorbar\": {\"outlinewidth\": 0, \"ticks\": \"\"}}, \"marker\": {\"colorbar\": {\"outlinewidth\": 0, \"ticks\": \"\"}}, \"type\": \"scatter3d\"}], \"scattercarpet\": [{\"marker\": {\"colorbar\": {\"outlinewidth\": 0, \"ticks\": \"\"}}, \"type\": \"scattercarpet\"}], \"scattergeo\": [{\"marker\": {\"colorbar\": {\"outlinewidth\": 0, \"ticks\": \"\"}}, \"type\": \"scattergeo\"}], \"scattergl\": [{\"marker\": {\"colorbar\": {\"outlinewidth\": 0, \"ticks\": \"\"}}, \"type\": \"scattergl\"}], \"scattermapbox\": [{\"marker\": {\"colorbar\": {\"outlinewidth\": 0, \"ticks\": \"\"}}, \"type\": \"scattermapbox\"}], \"scatterpolar\": [{\"marker\": {\"colorbar\": {\"outlinewidth\": 0, \"ticks\": \"\"}}, \"type\": \"scatterpolar\"}], \"scatterpolargl\": [{\"marker\": {\"colorbar\": {\"outlinewidth\": 0, \"ticks\": \"\"}}, \"type\": \"scatterpolargl\"}], \"scatterternary\": [{\"marker\": {\"colorbar\": {\"outlinewidth\": 0, \"ticks\": \"\"}}, \"type\": \"scatterternary\"}], \"surface\": [{\"colorbar\": {\"outlinewidth\": 0, \"ticks\": \"\"}, \"colorscale\": [[0.0, \"#0d0887\"], [0.1111111111111111, \"#46039f\"], [0.2222222222222222, \"#7201a8\"], [0.3333333333333333, \"#9c179e\"], [0.4444444444444444, \"#bd3786\"], [0.5555555555555556, \"#d8576b\"], [0.6666666666666666, \"#ed7953\"], [0.7777777777777778, \"#fb9f3a\"], [0.8888888888888888, \"#fdca26\"], [1.0, \"#f0f921\"]], \"type\": \"surface\"}], \"table\": [{\"cells\": {\"fill\": {\"color\": \"#EBF0F8\"}, \"line\": {\"color\": \"white\"}}, \"header\": {\"fill\": {\"color\": \"#C8D4E3\"}, \"line\": {\"color\": \"white\"}}, \"type\": \"table\"}]}, \"layout\": {\"annotationdefaults\": {\"arrowcolor\": \"#2a3f5f\", \"arrowhead\": 0, \"arrowwidth\": 1}, \"coloraxis\": {\"colorbar\": {\"outlinewidth\": 0, \"ticks\": \"\"}}, \"colorscale\": {\"diverging\": [[0, \"#8e0152\"], [0.1, \"#c51b7d\"], [0.2, \"#de77ae\"], [0.3, \"#f1b6da\"], [0.4, \"#fde0ef\"], [0.5, \"#f7f7f7\"], [0.6, \"#e6f5d0\"], [0.7, \"#b8e186\"], [0.8, \"#7fbc41\"], [0.9, \"#4d9221\"], [1, \"#276419\"]], \"sequential\": [[0.0, \"#0d0887\"], [0.1111111111111111, \"#46039f\"], [0.2222222222222222, \"#7201a8\"], [0.3333333333333333, \"#9c179e\"], [0.4444444444444444, \"#bd3786\"], [0.5555555555555556, \"#d8576b\"], [0.6666666666666666, \"#ed7953\"], [0.7777777777777778, \"#fb9f3a\"], [0.8888888888888888, \"#fdca26\"], [1.0, \"#f0f921\"]], \"sequentialminus\": [[0.0, \"#0d0887\"], [0.1111111111111111, \"#46039f\"], [0.2222222222222222, \"#7201a8\"], [0.3333333333333333, \"#9c179e\"], [0.4444444444444444, \"#bd3786\"], [0.5555555555555556, \"#d8576b\"], [0.6666666666666666, \"#ed7953\"], [0.7777777777777778, \"#fb9f3a\"], [0.8888888888888888, \"#fdca26\"], [1.0, \"#f0f921\"]]}, \"colorway\": [\"#636efa\", \"#EF553B\", \"#00cc96\", \"#ab63fa\", \"#FFA15A\", \"#19d3f3\", \"#FF6692\", \"#B6E880\", \"#FF97FF\", \"#FECB52\"], \"font\": {\"color\": \"#2a3f5f\"}, \"geo\": {\"bgcolor\": \"white\", \"lakecolor\": \"white\", \"landcolor\": \"#E5ECF6\", \"showlakes\": true, \"showland\": true, \"subunitcolor\": \"white\"}, \"hoverlabel\": {\"align\": \"left\"}, \"hovermode\": \"closest\", \"mapbox\": {\"style\": \"light\"}, \"paper_bgcolor\": \"white\", \"plot_bgcolor\": \"#E5ECF6\", \"polar\": {\"angularaxis\": {\"gridcolor\": \"white\", \"linecolor\": \"white\", \"ticks\": \"\"}, \"bgcolor\": \"#E5ECF6\", \"radialaxis\": {\"gridcolor\": \"white\", \"linecolor\": \"white\", \"ticks\": \"\"}}, \"scene\": {\"xaxis\": {\"backgroundcolor\": \"#E5ECF6\", \"gridcolor\": \"white\", \"gridwidth\": 2, \"linecolor\": \"white\", \"showbackground\": true, \"ticks\": \"\", \"zerolinecolor\": \"white\"}, \"yaxis\": {\"backgroundcolor\": \"#E5ECF6\", \"gridcolor\": \"white\", \"gridwidth\": 2, \"linecolor\": \"white\", \"showbackground\": true, \"ticks\": \"\", \"zerolinecolor\": \"white\"}, \"zaxis\": {\"backgroundcolor\": \"#E5ECF6\", \"gridcolor\": \"white\", \"gridwidth\": 2, \"linecolor\": \"white\", \"showbackground\": true, \"ticks\": \"\", \"zerolinecolor\": \"white\"}}, \"shapedefaults\": {\"line\": {\"color\": \"#2a3f5f\"}}, \"ternary\": {\"aaxis\": {\"gridcolor\": \"white\", \"linecolor\": \"white\", \"ticks\": \"\"}, \"baxis\": {\"gridcolor\": \"white\", \"linecolor\": \"white\", \"ticks\": \"\"}, \"bgcolor\": \"#E5ECF6\", \"caxis\": {\"gridcolor\": \"white\", \"linecolor\": \"white\", \"ticks\": \"\"}}, \"title\": {\"x\": 0.05}, \"xaxis\": {\"automargin\": true, \"gridcolor\": \"white\", \"linecolor\": \"white\", \"ticks\": \"\", \"title\": {\"standoff\": 15}, \"zerolinecolor\": \"white\", \"zerolinewidth\": 2}, \"yaxis\": {\"automargin\": true, \"gridcolor\": \"white\", \"linecolor\": \"white\", \"ticks\": \"\", \"title\": {\"standoff\": 15}, \"zerolinecolor\": \"white\", \"zerolinewidth\": 2}}}, \"title\": {\"text\": \"Accuracy vs number of folds\", \"x\": 0.5}, \"width\": 1000, \"xaxis\": {\"anchor\": \"y\", \"domain\": [0.0, 0.45]}, \"xaxis2\": {\"anchor\": \"y2\", \"domain\": [0.55, 1.0]}, \"yaxis\": {\"anchor\": \"x\", \"domain\": [0.0, 1.0], \"tick0\": 5}, \"yaxis2\": {\"anchor\": \"x2\", \"domain\": [0.0, 1.0], \"tick0\": 5}},\n",
       "                        {\"responsive\": true}\n",
       "                    ).then(function(){\n",
       "                            \n",
       "var gd = document.getElementById('e07092af-3493-42d2-a370-c80c422d64a7');\n",
       "var x = new MutationObserver(function (mutations, observer) {{\n",
       "        var display = window.getComputedStyle(gd).display;\n",
       "        if (!display || display === 'none') {{\n",
       "            console.log([gd, 'removed!']);\n",
       "            Plotly.purge(gd);\n",
       "            observer.disconnect();\n",
       "        }}\n",
       "}});\n",
       "\n",
       "// Listen for the removal of the full notebook cells\n",
       "var notebookContainer = gd.closest('#notebook-container');\n",
       "if (notebookContainer) {{\n",
       "    x.observe(notebookContainer, {childList: true});\n",
       "}}\n",
       "\n",
       "// Listen for the clearing of the current output cell\n",
       "var outputEl = gd.closest('.output');\n",
       "if (outputEl) {{\n",
       "    x.observe(outputEl, {childList: true});\n",
       "}}\n",
       "\n",
       "                        })\n",
       "                };\n",
       "                \n",
       "            </script>\n",
       "        </div>\n",
       "</body>\n",
       "</html>"
      ]
     },
     "metadata": {
      "tags": []
     },
     "output_type": "display_data"
    }
   ],
   "source": [
    "# Repeating the mean values 5 times for plotting purposes\n",
    "cv_mean_list = [[i*100]*5 for i in cv_test_mean]\n",
    "\n",
    "# Initializing two lists\n",
    "names = ['Train', 'Test']\n",
    "col_num = [1, 2]\n",
    "\n",
    "# Creating a list of folds\n",
    "folds = list(range(1, 6))\n",
    "\n",
    "# Initiate subplots\n",
    "fig = make_subplots(rows=1,\n",
    "                    cols=2,\n",
    "                    x_title='Fold Number',\n",
    "                    y_title='Accuracy (%)',\n",
    "                    subplot_titles=(\"Random Forest: Accuracy vs Folds\", \n",
    "                                    \"KNN: Accuracy vs Folds\"))\n",
    "\n",
    "# Train scores are stored in cv_train_scores\n",
    "# Test scores are stored in cv_test_scores\n",
    "# Mean scores are stored in cv_mean_list\n",
    "\n",
    "# Display train, test and mean scores for both the models\n",
    "for i, j, k, cols in zip(cv_train_scores, cv_test_scores, cv_mean_list, col_num):\n",
    "\n",
    "  # Plotting the training scores\n",
    "  fig.add_trace(trace=go.Scatter(x=folds,\n",
    "                                 y=i*100,\n",
    "                                 mode='lines+markers',\n",
    "                                 hoverinfo='all',\n",
    "                                 name=names[0]),\n",
    "                                 row=1,\n",
    "                                 col=cols)\n",
    "\n",
    "  # Plotting the test scores\n",
    "  fig.add_trace(trace=go.Scatter(x=folds,\n",
    "                                 y=j*100,\n",
    "                                 mode='lines+markers',\n",
    "                                 hoverinfo='all',\n",
    "                                 name=names[1]),\n",
    "                                 row=1,\n",
    "                                 col=cols)\n",
    "\n",
    "  # Plotting the mean scores\n",
    "  fig.add_trace(trace=go.Scatter(x=folds,\n",
    "                                 y=k,\n",
    "                                 mode='lines',\n",
    "                                 hoverinfo='all',\n",
    "                                 name='Mean',\n",
    "                                 line=dict(dash='dash')),\n",
    "                                 row=1,\n",
    "                                 col=cols)\n",
    "\n",
    "# Update the layout with some cosmetics\n",
    "fig.update_layout(height=500, \n",
    "                  width=1000, \n",
    "                  title_text='Accuracy vs number of folds', \n",
    "                  title_x=0.5)\n",
    "\n",
    "fig.update_yaxes(tick0=5)\n",
    "\n",
    "# Display the figure\n",
    "fig.show()"
   ]
  },
  {
   "cell_type": "markdown",
   "metadata": {
    "id": "gEh0jV-e5Haq"
   },
   "source": [
    "**Observations**:\n",
    "\n",
    "- The **training accuracy** for both the models is **100%** at all folds.\n",
    "\n",
    "- The **average test accuracy** of the random forest model is observed as **73.19%**.\n",
    "\n",
    "- The **average test accuracy** of the knn model is observed as **70.43%**.\n",
    "\n",
    "|Fold number|KNN Classifier|Random Forest Classifier|\n",
    "|:--:|:--:|:--:|\n",
    "|1|73.33%|66.67%|\n",
    "|2|60.00%|63.33%|\n",
    "|3|70.00%|80.00%|\n",
    "|4|83.33%|76.67%|\n",
    "|5|65.51%|79.31%|\n",
    "\n",
    "\n",
    "- The **performance metric** for both the models are **good** and can be used for our investigation scenario."
   ]
  },
  {
   "cell_type": "markdown",
   "metadata": {
    "id": "yAU-OIiI-cE0"
   },
   "source": [
    "<a name = Section84></a>\n",
    "### **8.4 Model Comparison**\n",
    "\n",
    "- We get **better scores** from our optimal models than the previous ones.\n",
    "\n",
    "|#|Type|Model Name|Train Accuracy|Test Accuracy|\n",
    "|:--|:--|:--|:--|:--|\n",
    "|1|Baseline|**Logistic Regression**|67.18%|67.78%|\n",
    "|2|Baseline|**KNN Classifier**|73.82%|70.31%|\n",
    "|3|Baseline|**Random Forest Classifier**|100%|81.25%|\n",
    "|4|Baseline|**Naive Bayes Classifier**|59.06%|46.87%|\n",
    "|5|Tuned|**KNN Classifier**|100%|79.68%|\n",
    "|6|Tuned|**Random Forest Classifier**|100%|82.81%|"
   ]
  },
  {
   "cell_type": "markdown",
   "metadata": {
    "id": "KyCA2ktmW-5e"
   },
   "source": [
    "<a name = Section9></a>\n",
    "\n",
    "---\n",
    "# **9. Summarization**\n",
    "---"
   ]
  },
  {
   "cell_type": "markdown",
   "metadata": {
    "id": "MwnIWBsrqiQC"
   },
   "source": [
    "<a name = Section101></a>\n",
    "### **9.1 Conclusion**\n",
    "\n",
    "- We have learned the **working** of **K-Nearest Neighbors** as a **classifier**.\n",
    "\n",
    "- We have performed an **in-depth analysis** to extract important information regarding the **features** **concerning** **glass types**.\n",
    "\n",
    "- We then proceeded to **scale** our **data** using a **StandardScaler** and then **split** our data into **train** and **test** datasets.\n",
    "\n",
    "- We **trained different classifiers** and **compared** their **performance** with our **KNN Classifier**.\n",
    "\n",
    "- We also **performed tuning** on our KNN classifier and Random Forest classifier using Grid Search to find the **optimal model**.\n",
    "\n",
    "- Lastly, we **estimated** the **performance** of our optimal models using **K-fold cross-validation**.\n",
    "\n",
    "- Now we can **use both** of these models in **production** and **monitor** the prediction **results** to **identify** the **best model** in realtime.\n",
    "\n",
    "- Finally, we will **use the best model** to **solve** the **objective** of findin the **right culprit** of the crime."
   ]
  },
  {
   "cell_type": "markdown",
   "metadata": {
    "id": "_-s2CTBcrI9q"
   },
   "source": [
    "<a name = Section102></a>\n",
    "### **9.2 Actionable Insights**\n",
    "\n",
    "- **Various types** of glasses can be **found** in **garments** and **shoes**.\n",
    "\n",
    "- We have to make sure they **match** the **fragments** found at the **crime scene**.\n",
    "\n",
    "- For that, we need to first let our models **correctly detect** the **glass** pieces at the **victim's house**.\n",
    "\n",
    "- Then we can use that information and check if the **glass fragments found** in **clothes match** or not."
   ]
  }
 ],
 "metadata": {
  "colab": {
   "collapsed_sections": [],
   "name": "K Nearest Neighbors (Case Study).ipynb",
   "provenance": []
  },
  "kernelspec": {
   "display_name": "Python 3 (ipykernel)",
   "language": "python",
   "name": "python3"
  },
  "language_info": {
   "codemirror_mode": {
    "name": "ipython",
    "version": 3
   },
   "file_extension": ".py",
   "mimetype": "text/x-python",
   "name": "python",
   "nbconvert_exporter": "python",
   "pygments_lexer": "ipython3",
   "version": "3.9.13"
  }
 },
 "nbformat": 4,
 "nbformat_minor": 1
}
